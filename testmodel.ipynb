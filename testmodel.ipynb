{
 "cells": [
  {
   "cell_type": "code",
   "execution_count": 1,
   "metadata": {},
   "outputs": [],
   "source": [
    "# %% Import Libraries and Data\n",
    "\n",
    "# Third-party imports\n",
    "import numpy as np\n",
    "import pyansys\n",
    "from pyOpt import Optimization\n",
    "from pyOpt import ALPSO\n",
    "import time\n",
    "from mpi4py import MPI\n",
    "import pandas as pd\n",
    "import os\n",
    "import ipywidgets as widgets\n",
    "from ipywidgets import interact, interactive, interact_manual\n",
    "import matplotlib.pyplot as plt\n",
    "\n",
    "# Local imports\n",
    "from util_mapdl import Material\n",
    "from femodel import Threepartmodel"
   ]
  },
  {
   "cell_type": "code",
   "execution_count": 2,
   "metadata": {},
   "outputs": [],
   "source": [
    "# %% Run ANSYS and instantiate FE-Model\n",
    "\n",
    "ansys_path = '/home/y0065120/Dokumente/Leichtwerk/Projects/ansys-0/'\n",
    "jobname ='job-0'\n",
    "\n",
    "mapdl = pyansys.launch_mapdl(run_location=ansys_path,\n",
    "                             nproc=2,\n",
    "                             override=True,\n",
    "                             loglevel='error',\n",
    "                             additional_switches='-smp -d X11C',\n",
    "                             jobname=jobname,\n",
    "                             allow_ignore=True,\n",
    "                             mode='console')\n",
    "\n",
    "n_sec = 20\n",
    "\n",
    "femodel = Threepartmodel(mapdl,\n",
    "                         mesh_density_factor=1,\n",
    "                         propeller = [],\n",
    "                         n_sec=n_sec)\n",
    "\n",
    "femodel.materials = {'flaxpreg': Material(mapdl, 'FLAXPREG-T-UD', 1),\n",
    "                     'balsa': Material(mapdl, 'balsaholz', 2)}\n",
    "\n",
    "femodel.element_data = pd.read_csv('./mf3218/element_data.csv', index_col=(0))"
   ]
  },
  {
   "cell_type": "code",
   "execution_count": 3,
   "metadata": {},
   "outputs": [],
   "source": [
    "items = {}\n",
    "items['phi0'] =widgets.FloatSlider(value=90.,min=0.,max=180., description='phi0')\n",
    "items['phi1'] =widgets.FloatSlider(value=90.,min=0.,max=180., description='phi1')\n",
    "\n",
    "for i in range(20):\n",
    "    items['rho' + str(i)] = widgets.FloatSlider(value=0.5,min=0.,max=1.,step=0.01, description='rho' + str(i))\n",
    "    items['div' + str(i)] = widgets.FloatSlider(value=0.5,min=0.,max=1.,step=0.01, description='div' + str(i))"
   ]
  },
  {
   "cell_type": "code",
   "execution_count": 4,
   "metadata": {},
   "outputs": [],
   "source": [
    "i_ref = 1.\n",
    "\n",
    "def pnorm(x, p):\n",
    "    return (np.abs(x)**p).sum() ** (1./p)"
   ]
  },
  {
   "cell_type": "code",
   "execution_count": 5,
   "metadata": {},
   "outputs": [
    {
     "data": {
      "application/vnd.jupyter.widget-view+json": {
       "model_id": "05444e97849a4672816dea77b009625e",
       "version_major": 2,
       "version_minor": 0
      },
      "text/plain": [
       "interactive(children=(FloatSlider(value=90.0, description='phi0', max=180.0), FloatSlider(value=90.0, descript…"
      ]
     },
     "metadata": {},
     "output_type": "display_data"
    }
   ],
   "source": [
    "@interact_manual(**items)\n",
    "def objfunc(**kwargs):\n",
    "    x = []\n",
    "    x.append([])\n",
    "    x.append(kwargs['phi0'])\n",
    "    x.append(kwargs['phi1'])\n",
    "    \n",
    "    for i in range(20):\n",
    "        x.append(kwargs['rho' + str(i)])\n",
    "        x.append(kwargs['div' + str(i)])\n",
    "        \n",
    "    mass, i, h = femodel.evaluate(x)\n",
    "    g = list(np.array(i) - i_ref)\n",
    "    f = pnorm(np.array(g[:20]), 2.5)\n",
    "    \n",
    "    fig, ax = plt.subplots(figsize=(25.5, 15))\n",
    "    \n",
    "    plt.subplot(4,1,1)\n",
    "    \n",
    "    plt.plot(g[:20], marker='x')\n",
    "    plt.grid(True,which= 'major',linestyle= '--')\n",
    "    plt.xlim(0,19)\n",
    "    plt.ylim(-1,0.5)\n",
    "    plt.xlabel('Section')\n",
    "    plt.ylabel('I_f')\n",
    "    plt.xticks(np.linspace(0,19,20))\n",
    "    \n",
    "    plt.subplot(4,1,2)\n",
    "    \n",
    "    plt.plot(g[20:], marker='x')\n",
    "    plt.grid(True,which= 'major',linestyle= '--')\n",
    "    plt.xlim(0,19)\n",
    "    plt.ylim(-1,0.5)\n",
    "    plt.xlabel('Section')\n",
    "    plt.ylabel('I_m')\n",
    "    plt.xticks(np.linspace(0,19,20))\n",
    "    \n",
    "    plt.subplot(4,1,3)\n",
    "    \n",
    "    plt.plot(x[3::2], marker='x')\n",
    "    plt.grid(True,which= 'major',linestyle= '--')\n",
    "    plt.xlim(0,19)\n",
    "    plt.ylim(0,1)\n",
    "    plt.xlabel('Section')\n",
    "    plt.ylabel('rho')\n",
    "    plt.xticks(np.linspace(0,19,20))\n",
    "    \n",
    "    plt.subplot(4,1,4)\n",
    "    \n",
    "    plt.plot(x[4::2], marker='x')\n",
    "    plt.grid(True,which= 'major',linestyle= '--')\n",
    "    plt.xlim(0,19)\n",
    "    plt.ylim(0,1)\n",
    "    plt.xlabel('Section')\n",
    "    plt.ylabel('div')\n",
    "    plt.xticks(np.linspace(0,19,20))\n",
    "    \n",
    "    print(x)\n",
    "    print(f)\n",
    "    print(max(g))\n",
    "    print(mass)"
   ]
  },
  {
   "cell_type": "code",
   "execution_count": 6,
   "metadata": {},
   "outputs": [],
   "source": [
    "x=[90.0, 90.0, 0.32, 0.5, 0.15, 0.5, 0.23, 0.5, 0.35, 0.5, 0.35, 0.5, 0.35, 0.5, 0.31, 0.5, 0.28, 0.5, 0.24, 0.5, 0.2, 0.5, 0.15, 0.5, 0.12, 0.5, 0.08, 0.5, 0.02, 0.5, 0.0, 0.5, 0.0, 0.5, 0.0, 0.5, 0.0, 0.5, 0.0, 0.5, 0.0, 0.5]\n",
    "global_vars=x[:2]\n",
    "rho=x[2::2]\n",
    "div=x[3::2]\n",
    "args=[]\n",
    "for i in range(20):\n",
    "    args.append((rho[i], div[i]))\n"
   ]
  },
  {
   "cell_type": "code",
   "execution_count": null,
   "metadata": {},
   "outputs": [],
   "source": [
    "femodel.clear()\n",
    "femodel.cdread()\n",
    "femodel.change_design_variables(global_vars, *args)\n",
    "femodel.__solve__()\n",
    "f,g,h=femodel.post_processing()\n",
    "\n",
    "max(g)\n",
    "#max(h)\n",
    "\n",
    "mapdl.open_gui()"
   ]
  },
  {
   "cell_type": "code",
   "execution_count": 8,
   "metadata": {},
   "outputs": [
    {
     "data": {
      "text/plain": [
       "45"
      ]
     },
     "execution_count": 8,
     "metadata": {},
     "output_type": "execute_result"
    }
   ],
   "source": [
    "elements = femodel.element_data[femodel.element_data['Section Number'] == 3]['Element Number']\n",
    "len(elements)"
   ]
  },
  {
   "cell_type": "code",
   "execution_count": 9,
   "metadata": {},
   "outputs": [],
   "source": [
    "femodel.clear()"
   ]
  },
  {
   "cell_type": "code",
   "execution_count": null,
   "metadata": {},
   "outputs": [],
   "source": []
  },
  {
   "cell_type": "code",
   "execution_count": null,
   "metadata": {},
   "outputs": [],
   "source": []
  },
  {
   "cell_type": "code",
   "execution_count": null,
   "metadata": {},
   "outputs": [],
   "source": []
  }
 ],
 "metadata": {
  "kernelspec": {
   "display_name": "Python 3",
   "language": "python",
   "name": "python3"
  },
  "language_info": {
   "codemirror_mode": {
    "name": "ipython",
    "version": 3
   },
   "file_extension": ".py",
   "mimetype": "text/x-python",
   "name": "python",
   "nbconvert_exporter": "python",
   "pygments_lexer": "ipython3",
   "version": "3.8.5"
  }
 },
 "nbformat": 4,
 "nbformat_minor": 4
}
