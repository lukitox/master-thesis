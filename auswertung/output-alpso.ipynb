{
 "cells": [
  {
   "cell_type": "code",
   "execution_count": 1,
   "metadata": {},
   "outputs": [],
   "source": [
    "# Import Librariers\n",
    "\n",
    "# Third Party imports\n",
    "import numpy as np\n",
    "import pandas as pd\n",
    "import matplotlib.pyplot as plt\n",
    "import ipywidgets as widgets\n",
    "from ipywidgets import interact\n",
    "import time"
   ]
  },
  {
   "cell_type": "code",
   "execution_count": 1,
   "metadata": {},
   "outputs": [
    {
     "ename": "NameError",
     "evalue": "name 'pd' is not defined",
     "output_type": "error",
     "traceback": [
      "\u001b[0;31m---------------------------------------------------------------------------\u001b[0m",
      "\u001b[0;31mNameError\u001b[0m                                 Traceback (most recent call last)",
      "\u001b[0;32m<ipython-input-1-0c01d33ab039>\u001b[0m in \u001b[0;36m<module>\u001b[0;34m\u001b[0m\n\u001b[1;32m     25\u001b[0m \u001b[0;31m# solution = pd.DataFrame(array, columns=columns)\u001b[0m\u001b[0;34m\u001b[0m\u001b[0;34m\u001b[0m\u001b[0;34m\u001b[0m\u001b[0m\n\u001b[1;32m     26\u001b[0m \u001b[0;34m\u001b[0m\u001b[0m\n\u001b[0;32m---> 27\u001b[0;31m \u001b[0msolution\u001b[0m \u001b[0;34m=\u001b[0m \u001b[0mpd\u001b[0m\u001b[0;34m.\u001b[0m\u001b[0mread_csv\u001b[0m\u001b[0;34m(\u001b[0m\u001b[0;34m'solution_35-03_99-70_catia_2.csv'\u001b[0m\u001b[0;34m,\u001b[0m \u001b[0mindex_col\u001b[0m\u001b[0;34m=\u001b[0m\u001b[0;34m(\u001b[0m\u001b[0;36m0\u001b[0m\u001b[0;34m)\u001b[0m\u001b[0;34m)\u001b[0m\u001b[0;34m\u001b[0m\u001b[0;34m\u001b[0m\u001b[0m\n\u001b[0m\u001b[1;32m     28\u001b[0m \u001b[0msolution\u001b[0m\u001b[0;34m\u001b[0m\u001b[0;34m\u001b[0m\u001b[0m\n",
      "\u001b[0;31mNameError\u001b[0m: name 'pd' is not defined"
     ]
    }
   ],
   "source": [
    "# alpso_output = 'Simpleblade_Output_ALPSO_print.out'\n",
    "# start_string = 'NUMBER OF ITERATIONS:'\n",
    "# \n",
    "# array = []\n",
    "# columns = []\n",
    "# current_eval = 0\n",
    "# with open(alpso_output, 'r') as alpso:\n",
    "#     for line_number, line in enumerate(alpso):\n",
    "#         if start_string in line:\n",
    "#             current_eval = int([i for i in line.split()][-1])    \n",
    "#             array.append([])\n",
    "#             \n",
    "#         if current_eval > 0:\n",
    "#             split_line = line.split()\n",
    "#             \n",
    "#             for idx, x in enumerate(split_line):\n",
    "#                 if x == '=':\n",
    "#                     array[current_eval - 1].append(float(split_line[idx+1]))\n",
    "#                     \n",
    "#             if current_eval == 1:\n",
    "#                 for idx, x in enumerate(split_line):\n",
    "#                     if x == '=':\n",
    "#                         columns.append(split_line[idx-1])\n",
    "# \n",
    "# solution = pd.DataFrame(array, columns=columns)\n",
    "\n",
    "solution = pd.read_csv('solution_35-03_99-70_catia_2.csv', index_col=(0))\n",
    "solution"
   ]
  },
  {
   "cell_type": "code",
   "execution_count": null,
   "metadata": {},
   "outputs": [],
   "source": [
    "@interact(plot='F')\n",
    "def plot_solution(plot):\n",
    "    fig2, ax2 = plt.subplots()    \n",
    "    solution.plot(y=plot, ax=ax2, style='.-')\n",
    "    # solution.plot(y='P(0)', ax=ax2, style='.-')\n",
    "    \n",
    "    ax2.set_xlabel('Iteration')\n",
    "    ax2.set_xlim(0,len(solution['F']))\n",
    "    ax2.grid(True,which= 'major',linestyle= '--')\n",
    "    fig2.set_figwidth(25.5)\n",
    "    \n",
    "    \n"
   ]
  },
  {
   "cell_type": "code",
   "execution_count": null,
   "metadata": {},
   "outputs": [],
   "source": [
    "@interact(eval=widgets.IntSlider(min=-1, max=len(solution['F'])-1, step=1, value=len(solution['F'])-1))\n",
    "def plot_eval(eval):\n",
    "    i_f = solution.iloc[eval, [i+1 for i in range(20)]]\n",
    "    i_m = solution.iloc[eval, [i+21 for i in range(20)]]\n",
    "    rho = solution.iloc[eval, [i*2+110 for i in range(14)]]\n",
    "    div = solution.iloc[eval, [i*2+111 for i in range(14)]]\n",
    "    \n",
    "    fig, ax = plt.subplots(figsize=(25.5,15))\n",
    "\n",
    "    plt.subplot(4, 1, 1)\n",
    "    \n",
    "    plt.plot(list(i_f), marker='x')\n",
    "    plt.grid(True,which= 'major',linestyle= '--')\n",
    "    plt.xlim(0,19)\n",
    "    plt.ylim(-0.6,0.05)\n",
    "    plt.xlabel('Section')\n",
    "    plt.ylabel('I_f')\n",
    "    plt.xticks(np.linspace(0,19,20))\n",
    "    plt.plot([[-1+solution['P(0)'][eval]] for i in range(14)],linestyle= '--',color='black',linewidth=1)\n",
    "    plt.plot([[1-solution['P(0)'][eval]] for i in range(14)],linestyle= '--',color='black',linewidth=1)\n",
    "\n",
    "    \n",
    "    plt.subplot(4, 1, 2)\n",
    "    \n",
    "    plt.plot(list(i_m), marker='x')\n",
    "    plt.grid(True,which= 'major',linestyle= '--')\n",
    "    plt.xlim(0,19)\n",
    "    plt.ylim(-1,0.5)\n",
    "    plt.xlabel('Section')\n",
    "    plt.ylabel('I_m')\n",
    "    plt.xticks(np.linspace(0,19,20))\n",
    "    \n",
    "    plt.subplot(4,1,3)\n",
    "    \n",
    "    plt.plot(list(rho), marker='x')\n",
    "    plt.grid(True,which= 'major',linestyle= '--')\n",
    "    plt.xlim(0,19)\n",
    "    plt.ylim(0,1)\n",
    "    plt.xlabel('Section')\n",
    "    plt.ylabel('rho')\n",
    "    plt.xticks(np.linspace(0,19,20))\n",
    "    \n",
    "    plt.subplot(4,1,4)\n",
    "    \n",
    "    plt.plot(list(div), marker='x')\n",
    "    plt.grid(True,which= 'major',linestyle= '--')\n",
    "    plt.xlim(0,19)\n",
    "    plt.ylim(0.3,0.7)\n",
    "    plt.xlabel('Section')\n",
    "    plt.ylabel('div')\n",
    "    plt.xticks(np.linspace(0,19,20))"
   ]
  },
  {
   "cell_type": "code",
   "execution_count": null,
   "metadata": {},
   "outputs": [],
   "source": []
  },
  {
   "cell_type": "code",
   "execution_count": null,
   "metadata": {},
   "outputs": [],
   "source": []
  },
  {
   "cell_type": "code",
   "execution_count": null,
   "metadata": {},
   "outputs": [],
   "source": []
  }
 ],
 "metadata": {
  "kernelspec": {
   "display_name": "Python 3",
   "language": "python",
   "name": "python3"
  },
  "language_info": {
   "codemirror_mode": {
    "name": "ipython",
    "version": 3
   },
   "file_extension": ".py",
   "mimetype": "text/x-python",
   "name": "python",
   "nbconvert_exporter": "python",
   "pygments_lexer": "ipython3",
   "version": "3.8.5"
  }
 },
 "nbformat": 4,
 "nbformat_minor": 4
}
