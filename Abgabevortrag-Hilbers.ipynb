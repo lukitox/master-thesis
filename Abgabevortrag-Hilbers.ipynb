{
 "cells": [
  {
   "cell_type": "code",
   "execution_count": 15,
   "id": "35746f56",
   "metadata": {},
   "outputs": [],
   "source": [
    "# Third-Party imports\n",
    "import numpy as np\n",
    "import pandas as pd\n",
    "import matplotlib.pyplot as plt\n",
    "%matplotlib widget\n",
    "import ipywidgets as widgets\n",
    "from ipywidgets import interactive, interact_manual, interact\n",
    "import pyvista as pv\n",
    "import itkwidgets\n",
    "import pyansys\n",
    "import locale\n",
    "\n",
    "# Local imports\n",
    "from util_loads import Propeller, Airfoil, Loadcase\n",
    "from femodel import Threepartmodel as Propellermodel\n",
    "from util_mapdl import Material\n",
    "\n",
    "# Deutsche Notation für Matplotlib\n",
    "locale.setlocale(locale.LC_ALL, 'de_DE')\n",
    "plt.rcParams['axes.formatter.use_locale'] = True"
   ]
  },
  {
   "cell_type": "markdown",
   "id": "2b91f591",
   "metadata": {},
   "source": [
    "----\n",
    "<img src=\"figures/lwx.png\" alt=\"Logo LWX\" title=\"\" style=\"height:100px\" align=\"right\"/>\n",
    "<img src=\"figures/logo_IFL.svg\" alt=\"Logo IFL\" title=\"\" style=\"height:100px\" align=\"left\"/>"
   ]
  },
  {
   "cell_type": "markdown",
   "id": "4a63bd18",
   "metadata": {},
   "source": [
    "## Entwicklung eines automatisierten Auslegungs- und Optimierungsprogramms für anisotrope UAV-Propeller\n",
    "\n",
    "## Kolloquium zur Masterarbeit\n",
    "\n",
    "## Lukas Hilbers, 26. April 2021\n",
    "\n",
    "#### Erstprüfer: Prof. Dr.-Ing. Peter Horst \n",
    "#### Betreuer: Felix Nolte, M. Sc."
   ]
  },
  {
   "cell_type": "markdown",
   "id": "a1bcfa50",
   "metadata": {},
   "source": [
    "<div style=\"text-align: right\"> 1 / 19 </div>\n",
    "\n",
    "---\n",
    "## Agenda\n",
    "- ### Motivation und Methodik\n",
    "- ### Vorstellung der Anwendung\n",
    "- ### Implementierung eines Lastrechnungstools\n",
    "- ### FE-Modellierung in Python\n",
    "- ### Automatisierte Strukturoptimierung\n",
    "- ### Zusammenfassung und Ausblick"
   ]
  },
  {
   "cell_type": "markdown",
   "id": "39d1e733",
   "metadata": {},
   "source": [
    "<div style=\"text-align: right\"> 2 / 19 </div>\n",
    "\n",
    "---\n",
    "## Motivation und Methodik\n",
    "<img src=\"figures/Helics_Mat_1.jpg\" alt=\"Naturfasern\" title=\"\" style=\"height:400px\" align=\"right\"/>\n",
    "\n",
    "- ### Studienarbeit: Evaluierung naturfaserverstärkter Kunststoffe für Einsatz in Multicopter-Propellern\n",
    "    * ### FE-Simulationen mit generischem Modell mit ANSYS-APDL\n",
    "    * ### Werkstoffe (insbes. FLAXPREG) prinzipiell geeignet\n",
    "    * ### Offene Themen: Lastrechnung und Übertragung auf reale Geometrien\n",
    "    * ### Workflow: Weitgehend händisch, umständlich\n",
    "- ### Interessengebiete: Optimierung und Programmierung\n",
    "- ### Idee: Entwicklung einer automatisierten Toolchain zur Auslegung in Python\n",
    "    * ### PyMAPDL: interaktives Interface zwischen Python und Ansys\n",
    "    * ### PyOpt: wissenschaftlich fundierte Optimierungs-Toolbox"
   ]
  },
  {
   "cell_type": "markdown",
   "id": "a4bcfaaa",
   "metadata": {},
   "source": [
    "<div style=\"text-align: right\"> 3 / 19 </div>\n",
    "\n",
    "---\n",
    "## Vorstellung der Anwendung\n",
    "\n",
    "<img src=\"figures/Propeller.png\" alt=\"MF3218-Propeller\" title=\"\" style=\"height:200px\" align=\"right\"/>\n",
    "\n",
    "- ### 4-Motoriger Multicopter\n",
    "    * ### MTOW 25kg (Obergrenze für zulassungsfreie Systeme)\n",
    "- ### Ausgewählte Propellergeometrie: T-Motor MF3218\n",
    "    * ### Durchmesser $\\approx 813\\,mm$\n",
    "    * ### Maximale Drehzahl $4000\\,\\frac{1}{min}$\n",
    "    * ### Maximaler Schub $18\\,kg$ / $177\\,N$"
   ]
  },
  {
   "cell_type": "markdown",
   "id": "97c36ec8",
   "metadata": {},
   "source": [
    "<div style=\"text-align: right\"> 4 / 19 </div>\n",
    "\n",
    "---\n",
    "\n",
    "## Implementierung eines Lastrechnungstools\n",
    "\n",
    "<img src=\"figures/xfoil_logo.gif\" alt=\"Naturfasern\" title=\"\" style=\"height:100px\" align=\"right\"/>\n",
    "\n",
    "- ### Anforderungen:\n",
    "    * ### Verwendung beliebiger Grundrisse und Profile\n",
    "    * ### Auswertung verschiedener Lastfälle und Bildung einhüllender Lastverläufe\n",
    "    * ### Integration in Python-Workflow\n",
    "    \n",
    "- ### Gewählter Ansatz:\n",
    "    * ### Nutzung (semi-)analytischer Verfahren wie Traglinientheorie nach Prandtl <br> bzw. Propellertheorie nach Betz\n",
    "    * ### Guter Kompromiss aus Genauigkeit und numerischem Aufwand\n",
    "    * ### Löser wie XFOIL und XROTOR frei verfügbar "
   ]
  },
  {
   "cell_type": "markdown",
   "id": "a2d77e3b",
   "metadata": {},
   "source": [
    "<div style=\"text-align: right\"> 5 / 19 </div>\n",
    "\n",
    "---\n",
    "\n",
    "## Implementierung eines Lastrechnungstools: Architektur\n",
    "\n",
    "<img src=\"figures/latex/uml_lastrechnung.png\" alt=\"Naturfasern\" title=\"\" style=\"height:300px\" align=\"right\"/>\n",
    "\n",
    "- ### Objektorientierter Ansatz\n",
    "- ### Airfoil-Klasse:\n",
    "    * ### Repräsentiert aerodynamische Profile des Propellers\n",
    "    * ### Berechnung von Polaren, Druckverteilungen, Straakprofilen\n",
    "    * ### Anbindung an XFOIL als Löser\n",
    "- ### Loadcase-Klasse:\n",
    "    * ### Modellierung von Lastfällen\n",
    "    * ### Vorgabe von Anströmgschwindigkeit, Drehzahl, Leistung, Schub...\n",
    "- ### Propeller-Klasse:\n",
    "    * ### Repräsentiert gesamten Propeller\n",
    "    * ### Berechnung von (einhüllenden) Lastverläufen\n",
    "    * ### Ausgabe lokaler Strömungsparameter, Profile, <br> Schnittkräfte und -momente"
   ]
  },
  {
   "cell_type": "markdown",
   "id": "78d3dc84",
   "metadata": {},
   "source": [
    "<div style=\"text-align: right\"> 6 / 19 </div>\n",
    "\n",
    "---\n",
    "\n",
    "## Implementierung eines Lastrechnungstools: Anwendung\n",
    "\n",
    "- ### Geometrie: MF3218\n",
    "- ### Lastfall: Maximaler Standschub bei $4000\\,\\frac{1}{min}$"
   ]
  },
  {
   "cell_type": "code",
   "execution_count": 2,
   "id": "c649e838",
   "metadata": {},
   "outputs": [],
   "source": [
    "# Define Airfoil\n",
    "airfoil = Airfoil('mf3218.xfo', 500000, iter_limit=600)\n",
    "airfoil.set_polar(alpha_start=-20, alpha_stop=20, alpha_inc=0.25)\n",
    "\n",
    "# Instantiate Propeller and assign geometry and airfoils\n",
    "propeller = Propeller(number_of_blades=2,\n",
    "                      tip_radius=0.412,\n",
    "                      hub_radius=0.04,\n",
    "                      )\n",
    "\n",
    "#                              [r/R, c/R, beta]\n",
    "propeller.geometry = np.array([[0.10,0.078,0],\n",
    "                               [0.121, 0.078, 0.],\n",
    "                               [0.155, 0.100, 5.99],\n",
    "                               [0.223, 0.160, 17.97],\n",
    "                               [0.345, 0.149, 14.44],\n",
    "                               [0.417, 0.142, 12.68],\n",
    "                               [0.490, 0.135, 11.18],\n",
    "                               [0.563, 0.128, 9.94],\n",
    "                               [0.636, 0.121, 8.97],\n",
    "                               [0.709, 0.114, 8.26],\n",
    "                               [0.782, 0.107, 7.81],\n",
    "                               [0.854, 0.100, 7.63],\n",
    "                               [0.947, 0.091, 7.5],\n",
    "                               [1., 0.066, 7.5],                               \n",
    "                               ])\n",
    "\n",
    "propeller.sections = [[0.121, airfoil],\n",
    "                      [1., airfoil],]\n",
    "\n",
    "# Instantiate Loadcases\n",
    "loadcase = Loadcase(name='Max RPM', flight_speed=0.01)\n",
    "\n",
    "# Assign Loadcase to Propeller Object\n",
    "propeller.add_loadcase(loadcase)\n",
    "propeller.loadcases[0][0].set_data('rpm',4000)\n",
    "\n",
    "# Calculate loads\n",
    "propeller.calc_loads()\n",
    "propeller.set_load_envelope()"
   ]
  },
  {
   "cell_type": "code",
   "execution_count": 3,
   "id": "b3d1584a",
   "metadata": {},
   "outputs": [
    {
     "name": "stderr",
     "output_type": "stream",
     "text": [
      "Unconverged point: Airfoil mf3218.xfo cl 0.873. Filling with 0.\n",
      "Unconverged point: Airfoil mf3218.xfo cl 0.873. Filling with 0.\n"
     ]
    },
    {
     "data": {
      "application/vnd.jupyter.widget-view+json": {
       "model_id": "6ef6a61eef2e436bae82a8a2a997982b",
       "version_major": 2,
       "version_minor": 0
      },
      "text/plain": [
       "Canvas(toolbar=Toolbar(toolitems=[('Home', 'Reset original view', 'home', 'home'), ('Back', 'Back to previous …"
      ]
     },
     "metadata": {},
     "output_type": "display_data"
    },
    {
     "data": {
      "text/plain": [
       "Text(0.5, 0, 'Druckbeiwert -C_p / 1')"
      ]
     },
     "execution_count": 3,
     "metadata": {},
     "output_type": "execute_result"
    }
   ],
   "source": [
    "X, Y, Cp_suc, Cp_pres = propeller.pressure_distribution('envelope')\n",
    "\n",
    "fig = plt.figure(figsize=(10, 10))\n",
    "ax = plt.axes(projection='3d')\n",
    "\n",
    "ax.plot_surface(X, Y, -Cp_suc + Cp_pres,cmap='viridis', edgecolor='none')\n",
    "\n",
    "ax.set_xlabel('rel. Radius y/R / 1')\n",
    "ax.set_ylabel('rel. Profiltiefe x/C / 1')\n",
    "ax.set_zlabel('Druckbeiwert -C_p / 1')"
   ]
  },
  {
   "cell_type": "markdown",
   "id": "03ae3ac4",
   "metadata": {},
   "source": [
    "<div style=\"text-align: right\"> 7 / 19 </div>\n",
    "\n",
    "---\n",
    "## FE-Modellierung in Python\n",
    "\n",
    "<img src=\"figures/latex/uml_optimierung.png\" alt=\"Analysemodell\" title=\"\" style=\"height:500px\" align=\"right\"/>\n",
    "\n",
    "- ### PyMAPDL: Interaktives Python-ANSYS-Interface\n",
    "- ### Objektorientierter Ansatz\n",
    "    * ### Anbindung an Material-DB\n",
    "    * ### Anbindung an Propeller-Klasse des Lasten-Tools\n"
   ]
  },
  {
   "cell_type": "markdown",
   "id": "c0afee5c",
   "metadata": {},
   "source": [
    "<div style=\"text-align: right\"> 8 / 19 </div>\n",
    "\n",
    "---\n",
    "\n",
    "## (Start FE-Modell in ANSYS)"
   ]
  },
  {
   "cell_type": "code",
   "execution_count": 4,
   "id": "e66ef0cc",
   "metadata": {},
   "outputs": [],
   "source": [
    "# Set directory and jobname\n",
    "ansys_path = '/home/y0065120/Dokumente/Leichtwerk/Projects/ansys-0/'\n",
    "jobname ='job-0'\n",
    "\n",
    "# Launch MAPDL\n",
    "mapdl = pyansys.launch_mapdl(run_location=ansys_path,\n",
    "                             nproc=2,\n",
    "                             override=True,\n",
    "                             loglevel='error',\n",
    "                             additional_switches='-smp -d X11C',\n",
    "                             jobname=jobname,\n",
    "                             allow_ignore=True,\n",
    "                             mode='console',\n",
    "                            )\n",
    "\n",
    "# Instantiate FE-Model\n",
    "femodel = Propellermodel(mapdl,\n",
    "                         mesh_density_factor=1,\n",
    "                         propeller=[],\n",
    "                         n_sec=20,\n",
    "                        )\n",
    "\n",
    "# Load Materials\n",
    "femodel.materials = {'flaxpreg': Material(mapdl, 'FLAXPREG-T-UD', 1),\n",
    "                     'balsa': Material(mapdl, 'balsaholz', 2),\n",
    "                    }\n",
    "\n",
    "# Load previous Pre-Processing\n",
    "femodel.element_data = pd.read_csv('./mf3218/element_data.csv', index_col=(0))\n",
    "femodel.cdread()"
   ]
  },
  {
   "cell_type": "markdown",
   "id": "70e35225",
   "metadata": {},
   "source": [
    "<div style=\"text-align: right\"> 9 / 19 </div>\n",
    "\n",
    "---\n",
    "\n",
    "## FE-Modellierung in Python: Modellaufbau\n",
    "\n",
    "- ### Abstrahierung als 2D-Platte nach Kirchhoff'scher Plattentheorie\n",
    "    * ### Shell-Element SHELL281\n",
    "    * ### Einsparung Rechenaufwand $\\rightarrow$ Optimierung"
   ]
  },
  {
   "cell_type": "code",
   "execution_count": 14,
   "id": "dfdf96cc",
   "metadata": {},
   "outputs": [
    {
     "data": {
      "image/png": "[encoded data removed]",
      "text/plain": [
       "<PIL.Image.Image image mode=RGB size=1024x768 at 0x7FF999A16D60>"
      ]
     },
     "metadata": {},
     "output_type": "display_data"
    },
    {
     "data": {
      "text/plain": [
       "[(428.38723433846314, 641.3177829466106, 402.5458392165513),\n",
       " (18.0694474018525, 230.99999600999996, -7.771947720059352),\n",
       " (0.0, 0.0, 1.0)]"
      ]
     },
     "execution_count": 14,
     "metadata": {},
     "output_type": "execute_result"
    }
   ],
   "source": [
    "mapdl.eplot()"
   ]
  },
  {
   "cell_type": "markdown",
   "id": "ef0c4730",
   "metadata": {},
   "source": [
    "<div style=\"text-align: right\"> 10 / 19 </div>\n",
    "\n",
    "---\n",
    "\n",
    "## FE-Modellierung in Python: Lagenaufbau und Variablen\n",
    "\n",
    "<img src=\"figures/latex/designvars.png\" alt=\"Design-Variablen\" title=\"\" style=\"height:350px\" align=\"right\"/>\n",
    "\n",
    "- ### Modellierung über Ersatz-Lagenpakete anstatt diskreter Lagen\n",
    "- ### Radiale Unterteilung des Blattes in 20 Komponenten: $\\text{j}=1,\\,\\dots,\\,20$\n",
    "- ### Sandwich FLAXPREG - Balsaholz\n",
    "- ### Variablen je Komponente $\\text{j}$:\n",
    "    * ### Fasermenge $\\text{rho_j}$\n",
    "    * ### Asymmetrie-Faktor $\\text{div_j}$\n",
    "- ### Variablen Global:\n",
    "    * ### Orientierung Verbundwerkstoff $\\text{phi_0}$\n",
    "    * ### Orientierung Stützstoff $\\text{phi_1}$\n"
   ]
  },
  {
   "cell_type": "markdown",
   "id": "42c978f4",
   "metadata": {},
   "source": [
    "<div style=\"text-align: right\"> 11 / 19 </div>\n",
    "\n",
    "---\n",
    "\n",
    "## FE-Modellierung in Python: Lasten\n",
    "\n",
    "- ### Zentrifugale Kräfte: Zuweisung als Rotation um Koordinatenursprung in ANSYS-APDL\n",
    "- ### Luftkräfte: Anbindung an Lastrechnungstool"
   ]
  },
  {
   "cell_type": "code",
   "execution_count": 6,
   "id": "ec1e86f0",
   "metadata": {
    "jupyter": {
     "source_hidden": true
    }
   },
   "outputs": [
    {
     "data": {
      "image/png": "[encoded data removed]",
      "text/plain": [
       "<PIL.Image.Image image mode=RGB size=1024x768 at 0x7FF9D2944610>"
      ]
     },
     "metadata": {},
     "output_type": "display_data"
    },
    {
     "data": {
      "text/plain": [
       "[(18.132821046913, 270.0, 718.5432175064541),\n",
       " (18.132821046913, 270.0, -7.771409650888949),\n",
       " (-1.0, 0.0, 0.0)]"
      ]
     },
     "execution_count": 6,
     "metadata": {},
     "output_type": "execute_result"
    }
   ],
   "source": [
    "pressure_lift = np.array(femodel.element_data['Pressure by Lift'])   \n",
    "mesh = pv.read('femesh.vtk')\n",
    "\n",
    "etb_scalar = []\n",
    "for elem in mapdl.result.grid['ansys_elem_num']:\n",
    "    etb_scalar.append(pressure_lift[elem-1])\n",
    "etb_scalar = np.array(etb_scalar)\n",
    "\n",
    "plotter = pv.Plotter(notebook=True)\n",
    "\n",
    "plotter.add_mesh(mesh,\n",
    "                 scalars=etb_scalar,\n",
    "                 cmap='plasma',\n",
    "                 clim=[0, 0.016],\n",
    "                 show_scalar_bar=True,\n",
    "                )\n",
    "plotter.add_scalar_bar(title='Pressure / MPa',\n",
    "                       color='black',\n",
    "                       outline=True,\n",
    "                      )\n",
    "plotter.set_background('w')\n",
    "\n",
    "cpos = [(18.132821046913, 270, 718.5432175064541),\n",
    "        (18.132821046913, 270, -7.771409650888949),\n",
    "        (-1.0, 0.0, 0.0)]\n",
    "plotter.show(cpos=cpos)"
   ]
  },
  {
   "cell_type": "markdown",
   "id": "46e03be4",
   "metadata": {},
   "source": [
    "<div style=\"text-align: right\"> 12 / 19 </div>\n",
    "\n",
    "---\n",
    "\n",
    "## Strukturoptimierung in Python\n",
    "\n",
    "<img src=\"https://upload.wikimedia.org/wikipedia/commons/e/ec/ParticleSwarmArrowsAnimation.gif\" alt=\"util_loads\" title=\"\" align=\"right\"/>\n",
    "\n",
    "- ### PyOpt: Modulare Optimierungstoolbox\n",
    "    * ### Teilchenschwärme: ALPSO\n",
    "    * ### Evolutionsstrategien: NSGA2\n",
    "    * ### Gradientenbasierte Verfahren: SLSQP\n",
    "    * ### ...\n",
    "- ### Auswahl: Teilchenschwärme - ALSPO\n",
    "    * ### Globale Suchmethode, keine Gradienten\n",
    "    * ### Restriktionen und diskrete Variablen unterstützt\n",
    "    * ### Parallelisierung möglich\n",
    "- ### Idee Partikelschwarmverfahren:\n",
    "    * ### Nachbildung des Verhaltens von Schwärmen im Tierreich\n",
    "    * ### Beispiel: Vögelschwärme auf Suche nach Futterplätzen: <br> Vorteil durch geteiltes Wissen überwiegt Wettbewerb"
   ]
  },
  {
   "cell_type": "markdown",
   "id": "64f6794d",
   "metadata": {},
   "source": [
    "<div style=\"text-align: right\"> 13 / 19 </div>\n",
    "\n",
    "---\n",
    "\n",
    "## Strukturoptimierung in Python: Optimierungsproblem\n",
    "\n",
    "### Design-Variablen:\n",
    "### $$\\vec{x} = \\left( \\text{phi_0},\\,\n",
    "\t\\text{phi_1},\\,\n",
    "\t\\text{rho_0},\\,\n",
    "\t\\text{div_0},\\,\n",
    "\t\\dots,\\,\n",
    "\t\\text{rho_19},\\,\n",
    "\t\\text{div_19} \\right) $$\n",
    "\n",
    "### Minimiere die Fasermenge im Bauteil\n",
    "### $$\\text{min}\\, f(\\vec{x}) = \\sum_{j=0}^{19} \\text{rho_j}$$\n",
    "\n",
    "### sodass Puck'sche Versagenskriterien eingehalten werden\n",
    "### $$g_{\\text{fib, }j}(\\vec{x}) =\\,I_{\\text{fib, }j}(\\vec{x}) \\,\\,- 1 \\le\\,0; \\quad j\\,=0,\\,\\dots,\\,19 \\\\ g_{\\text{mat, }j}(\\vec{x}) =\\,I_{\\text{mat, }j}(\\vec{x}) \\,\\,- 1 \\le\\,0; \\quad j\\,=0,\\,\\dots,\\,19$$"
   ]
  },
  {
   "cell_type": "markdown",
   "id": "a12ec5d6",
   "metadata": {},
   "source": [
    "<div style=\"text-align: right\"> 14 / 19 </div>\n",
    "\n",
    "---\n",
    "\n",
    "## Strukturoptimierung in Python: Ergebnisse\n",
    "\n",
    "- ### Berechnungszeit bis Konvergenz ca. $15\\,h$ (Desktop PC)\n",
    "- ### Erzielte Masse $30,2\\,g$\n",
    "- ### Faserorientierungen:\n",
    "    * ### $\\text{phi_0} \\approx 97,24^\\circ$\n",
    "    * ### $\\text{phi_1} \\approx 97,72^\\circ$\n"
   ]
  },
  {
   "cell_type": "code",
   "execution_count": 7,
   "id": "0d4562b3",
   "metadata": {},
   "outputs": [],
   "source": [
    "solution_rho = pd.read_csv('./auswertung/solution_rho.csv')"
   ]
  },
  {
   "cell_type": "code",
   "execution_count": 16,
   "id": "85b6b5cc",
   "metadata": {
    "jupyter": {
     "source_hidden": true
    }
   },
   "outputs": [
    {
     "data": {
      "application/vnd.jupyter.widget-view+json": {
       "model_id": "3c3b6110987c42fb9f9d48df03154760",
       "version_major": 2,
       "version_minor": 0
      },
      "text/plain": [
       "interactive(children=(IntSlider(value=164, description='eval', max=199, min=-1), Output()), _dom_classes=('wid…"
      ]
     },
     "metadata": {},
     "output_type": "display_data"
    }
   ],
   "source": [
    "@interact(eval=widgets.IntSlider(min=-1, max=len(solution_rho['F'])-1, step=1, value=164))\n",
    "def plot_eval(eval):\n",
    "    global_vars = list(solution_rho.iloc[eval, [82, 83]])\n",
    "    rho = list(solution_rho.iloc[eval, [i*2 + 84 for i in range(14)]])\n",
    "    div = list(solution_rho.iloc[eval, [i*2 + 85 for i in range(14)]])\n",
    "    i_f = solution_rho.iloc[eval, [i+2 for i in range(20)]]\n",
    "    i_m = solution_rho.iloc[eval, [i+22 for i in range(20)]]\n",
    "\n",
    "    fig2, ax2 = plt.subplots(figsize=(14, 7))\n",
    "\n",
    "    plt.subplot(1,2,1)\n",
    "\n",
    "    plt.plot(list(i_f), marker='o', label='$g_{FB, j}$', linewidth=1, color='black', markersize=3)\n",
    "    plt.plot(list(i_m), marker='o', label='$g_{ZFB, j}$', linewidth=1, color='black', markersize=3, linestyle='dashed')\n",
    "    plt.xlim(0,19)\n",
    "    plt.xticks(np.linspace(0,19,20))\n",
    "    plt.ylim(-1,0.1)\n",
    "    plt.xlabel('Komponenten-Index $j$ / 1')\n",
    "    plt.ylabel('Werte der Restriktionen / $1$')\n",
    "    plt.legend()\n",
    "\n",
    "    plt.subplot(1,2,2)\n",
    "\n",
    "    plt.plot(list(rho), marker='o', label='$rho\\_j$', linewidth=1, color='black', markersize=3)\n",
    "    plt.plot(list(div), marker='o', label='$div\\_j$', linewidth=1, color='black', markersize=3, linestyle='dashed')\n",
    "    plt.xlim(0,19)\n",
    "    plt.xticks(np.linspace(0,19,20))\n",
    "    plt.ylim(0,1.1)\n",
    "    plt.xlabel('Komponenten-Index $j$ / 1')\n",
    "    plt.ylabel('Werte der Designvariablen / $1$')\n",
    "    plt.legend()\n",
    "    \n",
    "    print(f' phi_0: {np.round(global_vars[0], 2)}, phi_1: {np.round(global_vars[1], 2)}')"
   ]
  },
  {
   "cell_type": "markdown",
   "id": "70cf2c19",
   "metadata": {},
   "source": [
    "<div style=\"text-align: right\"> 15 / 19 </div>\n",
    "\n",
    "---\n",
    "\n",
    "## Strukturoptimierung in Python: Interaktive Auswertung\n"
   ]
  },
  {
   "cell_type": "code",
   "execution_count": 9,
   "id": "598a23c4",
   "metadata": {},
   "outputs": [],
   "source": [
    "solution_rho = pd.read_csv('./auswertung/solution_rho.csv')"
   ]
  },
  {
   "cell_type": "code",
   "execution_count": 10,
   "id": "982faf61",
   "metadata": {
    "jupyter": {
     "source_hidden": true
    }
   },
   "outputs": [
    {
     "data": {
      "application/vnd.jupyter.widget-view+json": {
       "model_id": "1770c10714d84bfabddc976980959222",
       "version_major": 2,
       "version_minor": 0
      },
      "text/plain": [
       "interactive(children=(IntSlider(value=164, description='Iteration Number', max=199), Output()), _dom_classes=(…"
      ]
     },
     "metadata": {},
     "output_type": "display_data"
    }
   ],
   "source": [
    "@interact(number=widgets.IntSlider(min=0, max=len(solution_rho['F'])-1, value=164, description='Iteration Number'))\n",
    "def get_iteration_dataset(number):\n",
    "    global_vars = list(solution_rho.iloc[number, [82, 83]])\n",
    "    rho = list(solution_rho.iloc[number, [i*2 + 84 for i in range(14)]])\n",
    "    div = list(solution_rho.iloc[number, [i*2 + 85 for i in range(14)]])\n",
    "        \n",
    "    items = {}\n",
    "    items['phi0'] =widgets.FloatSlider(value=global_vars[0],min=0.,max=180., description='phi0')\n",
    "    items['phi1'] =widgets.FloatSlider(value=global_vars[1],min=0.,max=180., description='phi1')\n",
    "\n",
    "    for i in range(14):\n",
    "        items['rho' + str(i)] = widgets.FloatSlider(value=rho[i],min=0.,max=1.,step=0.01, description='rho' + str(i))\n",
    "        items['div' + str(i)] = widgets.FloatSlider(value=div[i],min=0.,max=1.,step=0.01, description='div' + str(i))\n",
    "    \n",
    "    @interact_manual(gui=widgets.Checkbox(value=False, description='Open APDL Gui', disabled=False),**items)\n",
    "    def solve_femodel(gui,**kwargs):\n",
    "            global_vars = []\n",
    "            global_vars.append(kwargs['phi0'])\n",
    "            global_vars.append(kwargs['phi1'])\n",
    "            \n",
    "            args = []\n",
    "            for i in range(14):\n",
    "                args.append((kwargs['rho' + str(i)], kwargs['div' + str(i)]))\n",
    "            for i in range(6):\n",
    "                args.append((0, 0.5))\n",
    "    \n",
    "            femodel.clear()\n",
    "            femodel.cdread()\n",
    "            femodel.change_design_variables(global_vars, *args)\n",
    "            femodel.__solve__()\n",
    "    \n",
    "            mass , i_f, i_m = femodel.post_processing()\n",
    "        \n",
    "            if gui:\n",
    "                call('cp mf3218/plasma.cmap /tmp/ansys_tmp/', shell=True)\n",
    "                mapdl.open_gui()\n",
    "            \n",
    "            fig3, ax3 = plt.subplots(figsize=(14, 7))\n",
    "            \n",
    "            plt.subplot(1,2,1)\n",
    "\n",
    "            plt.plot(np.array(i_f)-1, marker='o', label='$g_{FB, j}$', linewidth=1, color='black', markersize=3)\n",
    "            plt.plot(np.array(i_m)-1, marker='o', label='$g_{ZFB, j}$', linewidth=1, color='black', markersize=3, linestyle='dashed')\n",
    "            plt.xlim(0,19)\n",
    "            plt.xticks(np.linspace(0,19,20))\n",
    "            plt.ylim(-1,0.1)\n",
    "            plt.xlabel('Komponenten-Index $j$ / 1')\n",
    "            plt.ylabel('Werte der Restriktionen / $1$')\n",
    "            plt.legend()\n",
    "\n",
    "            plt.subplot(1,2,2)\n",
    "\n",
    "            plt.plot([kwargs['rho' + str(i)] for i in range(14)], marker='o', label='$rho\\_j$', linewidth=1, color='black', markersize=3)\n",
    "            plt.plot([kwargs['div' + str(i)] for i in range(14)], marker='o', label='$div\\_j$', linewidth=1, color='black', markersize=3, linestyle='dashed')\n",
    "            plt.xlim(0,19)\n",
    "            plt.xticks(np.linspace(0,19,20))\n",
    "            plt.ylim(0,1.1)\n",
    "            plt.xlabel('Komponenten-Index $j$ / 1')\n",
    "            plt.ylabel('Werte der Designvariablen / $1$')\n",
    "            plt.legend()\n",
    "\n",
    "            print('Masse: ' + str(np.round(mass*1e6,2)) + 'g')"
   ]
  },
  {
   "cell_type": "markdown",
   "id": "c13884f7",
   "metadata": {},
   "source": [
    "<div style=\"text-align: right\"> 16 / 19 </div>\n",
    "\n",
    "---\n",
    "\n",
    "## Strukturoptimierung in Python: Interaktive Auswertung Visuell"
   ]
  },
  {
   "cell_type": "code",
   "execution_count": 11,
   "id": "2e3cdee9",
   "metadata": {
    "jupyter": {
     "source_hidden": true
    }
   },
   "outputs": [
    {
     "data": {
      "application/vnd.jupyter.widget-view+json": {
       "model_id": "42fc16e9065e4dfea5591eb289c5e4a0",
       "version_major": 2,
       "version_minor": 0
      },
      "text/plain": [
       "interactive(children=(IntSlider(value=1, description='Layer:', max=5, min=1), Checkbox(value=True, description…"
      ]
     },
     "metadata": {},
     "output_type": "display_data"
    }
   ],
   "source": [
    "@interact_manual(switch=widgets.Checkbox(value=True, description='True = Fib', disabled=False),\n",
    "                 layer=widgets.IntSlider(min=1, max=5, value=1, description='Layer:'))\n",
    "def plot_puck(layer, switch):\n",
    "    mapdl.post1()\n",
    "    mapdl.layer(layer)\n",
    "    \n",
    "    if switch:\n",
    "        mapdl.etable('fib','fail','pfib')\n",
    "    else:\n",
    "        mapdl.etable('fib','fail','pmat')\n",
    "\n",
    "    with open('pretab.txt', 'w') as f:\n",
    "        f.write(mapdl.pretab('fib'))\n",
    "\n",
    "    etable = []\n",
    "    with open('pretab.txt', 'r') as f:\n",
    "        for line_number, line in enumerate(f):\n",
    "            split_line = line.split()\n",
    "            try:\n",
    "                etable.append([int(split_line[0]), float(split_line[1])])\n",
    "            except:\n",
    "                pass\n",
    "    etable=np.array(etable)          \n",
    "\n",
    "    etb_scalar = []\n",
    "    for elem in mapdl.result.grid['ansys_elem_num']:\n",
    "        etb_scalar.append(etable[elem-1,1])\n",
    "    etb_scalar = np.array(etb_scalar)\n",
    "\n",
    "    #plotter = pv.Plotter(notebook=True)\n",
    "    #plotter = pv.Plotter()\n",
    "    plotter = pv.PlotterITK()\n",
    "    plotter.add_mesh(mapdl.result.grid,\n",
    "                     scalars=etb_scalar, #etable[:,1],\n",
    "                     #cmap='plasma',\n",
    "                     #clim=[0,1],\n",
    "                     )\n",
    "    #plotter.show_axes()\n",
    "    #plotter.set_background(color='w')\n",
    "    #plotter.add_scalar_bar(position_x=0.2)\n",
    "    cpos = plotter.show(cpos=[0, 0, 1],\n",
    "                        cmap='coolwarm'\n",
    "                       # use_ipyvtk=True,\n",
    "                       ) "
   ]
  },
  {
   "cell_type": "markdown",
   "id": "69ced0f1",
   "metadata": {},
   "source": [
    "<div style=\"text-align: right\"> 17 / 19 </div>\n",
    "\n",
    "---\n",
    "\n",
    "## Zusammenfassung\n",
    "\n",
    "- ### Erstellung eines Lastrechnungstools in Python\n",
    "    * ### $\\rightarrow$ Einfache Anbindung an FE-Modell\n",
    "- ### Analysemodell auf Basis der FEM\n",
    "    * ### $\\rightarrow$ Objektorientierter Ansatz erlaubt flexible Konfiguration\n",
    "- ### Automatisierte Strukturoptimierung liefert lastgerechte Dimensionierung des Lagenaufbaus\n",
    "- ### Effizientes Post-Processing des Optimierungsergisses in Python\n",
    "\n",
    "## Ausblick\n",
    "- ### Auslegung realer Bauteile\n",
    "- ### Untersichung weiterer Fragestellungen, z.B.\n",
    "    * ### Aeroelastic tailoring\n",
    "    * ### Komplexere Lagenaufbauten\n",
    "    * ### Multidisziplinäre Optimierung\n",
    "- ### Python-FEM-Interface eröffnet Möglichkeiten für unterschiedlichste numerische Simulationen\n",
    "    "
   ]
  },
  {
   "cell_type": "markdown",
   "id": "b5e318e7",
   "metadata": {},
   "source": [
    "<div style=\"text-align: right\"> 18 / 19 </div>\n",
    "\n",
    "---\n",
    "\n",
    "# Vielen Dank für Ihre Aufmerksamkeit. Haben Sie Fragen?\n",
    "\n",
    "### Gerne auch im Nachgang an: l.hi@posteo.de"
   ]
  },
  {
   "cell_type": "markdown",
   "id": "3b8f5d41",
   "metadata": {},
   "source": [
    "<div style=\"text-align: right\"> 19 / 19 </div>\n",
    "\n",
    "---\n"
   ]
  },
  {
   "cell_type": "markdown",
   "id": "dadf97f8",
   "metadata": {},
   "source": [
    "Bildquelle der PSO-Animation: https://de.wikipedia.org/wiki/Partikelschwarmoptimierung#/media/Datei:ParticleSwarmArrowsAnimation.gif"
   ]
  }
 ],
 "metadata": {
  "kernelspec": {
   "display_name": "Python 3",
   "language": "python",
   "name": "python3"
  },
  "language_info": {
   "codemirror_mode": {
    "name": "ipython",
    "version": 3
   },
   "file_extension": ".py",
   "mimetype": "text/x-python",
   "name": "python",
   "nbconvert_exporter": "python",
   "pygments_lexer": "ipython3",
   "version": "3.8.5"
  }
 },
 "nbformat": 4,
 "nbformat_minor": 5
}
