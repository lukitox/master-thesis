{
 "cells": [
  {
   "cell_type": "code",
   "execution_count": 1,
   "id": "4915a4fc",
   "metadata": {},
   "outputs": [],
   "source": [
    "# Third-Party imports\n",
    "import numpy as np\n",
    "import pandas as pd\n",
    "import matplotlib.pyplot as plt\n",
    "%matplotlib widget\n",
    "from IPython.display import IFrame\n",
    "from wand.image import Image as WImage\n",
    "\n",
    "# Local imports\n",
    "from util_loads import Propeller, Airfoil, Loadcase\n",
    "\n",
    "# IFrame(\"figures/latex/uml_lastrechnung.pdf\", width=600, height=300)"
   ]
  },
  {
   "cell_type": "markdown",
   "id": "8665d2e1",
   "metadata": {},
   "source": [
    "----\n",
    "<img src=\"figures/lwx.png\" alt=\"Logo LWX\" title=\"\" style=\"height:100px\" align=\"right\"/>\n",
    "<img src=\"figures/logo_IFL.svg\" alt=\"Logo IFL\" title=\"\" style=\"height:100px\" align=\"left\"/>"
   ]
  },
  {
   "cell_type": "markdown",
   "id": "3c8e1f18",
   "metadata": {},
   "source": [
    "## Entwicklung eines automatisierten Auslegungs- und Optimierungsprogramms für anisotrope UAV-Propeller\n",
    "\n",
    "## Kolloquium zur Masterarbeit\n",
    "\n",
    "### Lukas Hilbers, 26. April 2021\n",
    "### E-Mail: l.hi@posteo.de"
   ]
  },
  {
   "cell_type": "markdown",
   "id": "ec4998b0",
   "metadata": {},
   "source": [
    "<div style=\"text-align: right\"> 1 / XX </div>\n",
    "\n",
    "---\n",
    "## Agenda\n",
    "- ### Motivation und Methodik\n",
    "- ### Vorstellung der Anwendung\n",
    "- ### Implementierung eines Lastrechnungstools\n",
    "- ### FE-Modellierung in Python\n",
    "- ### Automatisierte Strukturoptimierung"
   ]
  },
  {
   "cell_type": "markdown",
   "id": "5261b246",
   "metadata": {},
   "source": [
    "<div style=\"text-align: right\"> 2 / XX </div>\n",
    "\n",
    "---\n",
    "## Motivation und Methodik\n",
    "<img src=\"figures/Helics_Mat_1.jpg\" alt=\"Naturfasern\" title=\"\" style=\"height:400px\" align=\"right\"/>\n",
    "\n",
    "- ### Studienarbeit: Evaluierung naturfaserverstärkter Kunststoffe für Einsatz in Multicopter-Propellern\n",
    "    * ### FE-Simulationen mit generischem Modell mit ANSYS-APDL\n",
    "    * ### Werkstoffe (insbes. FLAXPREG) prinzipiell geeignet\n",
    "    * ### Offene Themen: Lastrechnung und Übertragung auf reale Geometrien\n",
    "    * ### Workflow: Weitgehend händisch, umständlich\n",
    "- ### Interessengebiete: Optimierung und Programmierung\n",
    "- ### Idee: Entwicklung einer automatisierten Toolchain zur Auslegung in Python\n",
    "    * ### PyMAPDL: interaktives Interface zwischen Python und Ansys\n",
    "    * ### PyOpt: wissenschaftlich fundierte Optimierungs-Toolbox"
   ]
  },
  {
   "cell_type": "markdown",
   "id": "219b1202",
   "metadata": {},
   "source": [
    "<div style=\"text-align: right\"> 3 / XX </div>\n",
    "\n",
    "---\n",
    "## Vorstellung der Anwendung\n",
    "\n",
    "<img src=\"figures/Propeller.png\" alt=\"MF3218-Propeller\" title=\"\" style=\"height:200px\" align=\"right\"/>\n",
    "\n",
    "- ### 4-Motoriger Multicopter\n",
    "    * ### MTOW 25kg (Obergrenze für zulassungsfreie Systeme)\n",
    "- ### Ausgewählte Propellergeometrie: T-Motor MF3218\n",
    "    * ### Durchmesser $\\approx 813\\,mm$\n",
    "    * ### Maximale Drehzahl $4000\\,\\frac{1}{min}$\n",
    "    * ### Maximaler Schub $18\\,kg$ / $177\\,N$"
   ]
  },
  {
   "cell_type": "markdown",
   "id": "dfa8d95e",
   "metadata": {},
   "source": [
    "<div style=\"text-align: right\"> 4 / XX </div>\n",
    "\n",
    "---\n",
    "\n",
    "## Implementierung eines Lastrechnungstools\n",
    "\n",
    "<img src=\"figures/xfoil_logo.gif\" alt=\"Naturfasern\" title=\"\" style=\"height:100px\" align=\"right\"/>\n",
    "\n",
    "- ### Anforderungen:\n",
    "    * ### Verwendung beliebiger Grundrisse und Profile\n",
    "    * ### Auswertung verschiedener Lastfälle und Bildung einhüllender Lastverläufe\n",
    "    * ### Integration in Python-Workflow\n",
    "    \n",
    "- ### Gewählter Ansatz:\n",
    "    * ### Nutzung (semi-)analytischer Verfahren wie Traglinientheorie nach Prandtl <br> bzw. Propellertheorie nach Betz\n",
    "    * ### Guter Kompromiss aus Genauigkeit und numerischem Aufwand\n",
    "    * ### Löser wie XFOIL und XROTOR frei verfügbar "
   ]
  },
  {
   "cell_type": "markdown",
   "id": "f6d53030",
   "metadata": {},
   "source": [
    "<div style=\"text-align: right\"> 5 / XX </div>\n",
    "\n",
    "---\n",
    "\n",
    "## Implementierung eines Lastrechnungstools: Architektur\n",
    "\n",
    "<img src=\"figures/latex/uml_lastrechnung.png\" alt=\"Naturfasern\" title=\"\" style=\"height:300px\" align=\"right\"/>\n",
    "\n",
    "- ### Objektorientierter Ansatz\n",
    "- ### Airfoil-Klasse:\n",
    "    * ### Repräsentiert aerodynamische Profile des Propellers\n",
    "    * ### Berechnung von Polaren, Druckverteilungen, Straakprofilen\n",
    "    * ### Anbindung an XFOIL als Löser\n",
    "- ### Loadcase-Klasse:\n",
    "    * ### Modellierung von Lastfällen\n",
    "    * ### Vorgabe von Anströmgschwindigkeit, Drehzahl, Leistung, Schub...\n",
    "- ### Propeller-Klasse:\n",
    "    * ### Repräsentiert gesamten Propeller\n",
    "    * ### Berechnung von (einhüllenden) Lastverläufen\n",
    "    * ### Ausgabe lokaler Strömungsparameter, Profile, <br> Schnittkräfte und -momente"
   ]
  },
  {
   "cell_type": "markdown",
   "id": "2bee4aed",
   "metadata": {},
   "source": [
    "<div style=\"text-align: right\"> 6 / XX </div>\n",
    "\n",
    "---\n",
    "\n",
    "## Implementierung eines Lastrechnungstools: Anwendung"
   ]
  },
  {
   "cell_type": "code",
   "execution_count": 2,
   "id": "94068dc9",
   "metadata": {},
   "outputs": [],
   "source": [
    "# Define Airfoil\n",
    "airfoil = Airfoil('mf3218.xfo', 500000, iter_limit=600)\n",
    "airfoil.set_polar(alpha_start=-20, alpha_stop=20, alpha_inc=0.25)\n",
    "\n",
    "# Instantiate Propeller and assign geometry and airfoils\n",
    "propeller = Propeller(number_of_blades=2,\n",
    "                      tip_radius=0.412,\n",
    "                      hub_radius=0.04,\n",
    "                      )\n",
    "\n",
    "#                              [r/R, c/R, beta]\n",
    "propeller.geometry = np.array([[0.10,0.078,0],\n",
    "                               [0.121, 0.078, 0.],\n",
    "                               [0.155, 0.100, 5.99],\n",
    "                               [0.223, 0.160, 17.97],\n",
    "                               [0.345, 0.149, 14.44],\n",
    "                               [0.417, 0.142, 12.68],\n",
    "                               [0.490, 0.135, 11.18],\n",
    "                               [0.563, 0.128, 9.94],\n",
    "                               [0.636, 0.121, 8.97],\n",
    "                               [0.709, 0.114, 8.26],\n",
    "                               [0.782, 0.107, 7.81],\n",
    "                               [0.854, 0.100, 7.63],\n",
    "                               [0.947, 0.091, 7.5],\n",
    "                               [1., 0.066, 7.5],                               \n",
    "                               ])\n",
    "\n",
    "propeller.sections = [[0.121, airfoil],\n",
    "                      [1., airfoil],]\n",
    "\n",
    "# Instantiate Loadcases\n",
    "loadcase = Loadcase(name='Max RPM', flight_speed=0.01)\n",
    "\n",
    "# Assign Loadcase to Propeller Object\n",
    "propeller.add_loadcase(loadcase)\n",
    "propeller.loadcases[0][0].set_data('rpm',4000)\n",
    "\n",
    "# Calculate loads\n",
    "propeller.calc_loads()\n",
    "propeller.set_load_envelope()"
   ]
  },
  {
   "cell_type": "code",
   "execution_count": 3,
   "id": "532b619d",
   "metadata": {},
   "outputs": [
    {
     "name": "stderr",
     "output_type": "stream",
     "text": [
      "/home/y0065120/Dokumente/Leichtwerk/Projects/helics-opt/util_loads/airfoil.py:297: RuntimeWarning: Unconverged point: Airfoil mf3218.xfo cl 0.873. Filling with 0.\n",
      "  warnings.warn('Unconverged point: ' + str(self) + ' ' + \\\n",
      "/home/y0065120/Dokumente/Leichtwerk/Projects/helics-opt/util_loads/airfoil.py:297: RuntimeWarning: Unconverged point: Airfoil mf3218.xfo cl 0.873. Filling with 0.\n",
      "  warnings.warn('Unconverged point: ' + str(self) + ' ' + \\\n"
     ]
    },
    {
     "data": {
      "application/vnd.jupyter.widget-view+json": {
       "model_id": "6e31f822ac054983a25dc808b599df50",
       "version_major": 2,
       "version_minor": 0
      },
      "text/plain": [
       "Canvas(toolbar=Toolbar(toolitems=[('Home', 'Reset original view', 'home', 'home'), ('Back', 'Back to previous …"
      ]
     },
     "metadata": {},
     "output_type": "display_data"
    },
    {
     "data": {
      "text/plain": [
       "Text(0.5, 0, 'Druckbeiwert -C_p / 1')"
      ]
     },
     "execution_count": 3,
     "metadata": {},
     "output_type": "execute_result"
    }
   ],
   "source": [
    "X, Y, Cp_suc, Cp_pres = propeller.pressure_distribution('envelope')\n",
    "\n",
    "fig = plt.figure(figsize=(10, 10))\n",
    "ax = plt.axes(projection='3d')\n",
    "\n",
    "ax.plot_surface(X, Y, -Cp_suc + Cp_pres,cmap='viridis', edgecolor='none')\n",
    "\n",
    "ax.set_xlabel('rel. Radius y/R / 1')\n",
    "ax.set_ylabel('rel. Profiltiefe x/C / 1')\n",
    "ax.set_zlabel('Druckbeiwert -C_p / 1')"
   ]
  },
  {
   "cell_type": "markdown",
   "id": "0655c671",
   "metadata": {},
   "source": [
    "---\n",
    "## FE-Modellierung mit PyMapdl\n",
    "\n",
    "<img src=\"figures/latex/uml_optimierung.png\" alt=\"Naturfasern\" title=\"\" style=\"height:500px\" align=\"right\"/>\n",
    "\n",
    "- ### PyMAPDL: Interaktives Python-ANSYS-Interface\n",
    "- ### Anbindung an Lasten-Tool\n",
    "- ### Optimierung mit Python-Bibliotheken"
   ]
  },
  {
   "cell_type": "code",
   "execution_count": null,
   "id": "4b5f61d6",
   "metadata": {},
   "outputs": [],
   "source": []
  }
 ],
 "metadata": {
  "kernelspec": {
   "display_name": "Python 3",
   "language": "python",
   "name": "python3"
  },
  "language_info": {
   "codemirror_mode": {
    "name": "ipython",
    "version": 3
   },
   "file_extension": ".py",
   "mimetype": "text/x-python",
   "name": "python",
   "nbconvert_exporter": "python",
   "pygments_lexer": "ipython3",
   "version": "3.8.5"
  }
 },
 "nbformat": 4,
 "nbformat_minor": 5
}
