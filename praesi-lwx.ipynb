{
 "cells": [
  {
   "cell_type": "markdown",
   "id": "fifty-sigma",
   "metadata": {},
   "source": [
    "<img src=\"figures/lwx.png\" alt=\"Logo LWX\" title=\"\" style=\"height:100px\" align=\"right\"/>\n",
    "<img src=\"figures/logo_IFL.svg\" alt=\"Logo IFL\" title=\"\" style=\"height:100px\" align=\"left\"/>"
   ]
  },
  {
   "cell_type": "markdown",
   "id": "arctic-flight",
   "metadata": {},
   "source": [
    "## Entwicklung eines automatisierten Auslegungs- und Optimierungsprogramms für anisotrope UAV-Propeller\n",
    "\n",
    "### Lukas Hilbers, E-Mail: l.hi@posteo.de\n",
    "---"
   ]
  },
  {
   "cell_type": "markdown",
   "id": "simple-restoration",
   "metadata": {},
   "source": [
    "## Agenda\n",
    "- #### Motivation\n",
    "- #### Herangehensweise\n",
    "- #### Software-Architektur\n",
    "- #### Lastenrechnung mit XFOIL und XROTOR\n",
    "- #### Fe-Modellierung mit PyMAPDL\n",
    "---"
   ]
  },
  {
   "cell_type": "markdown",
   "id": "following-petroleum",
   "metadata": {},
   "source": [
    "## Motivation\n",
    "<img src=\"figures/Helics_Mat_1.jpg\" alt=\"Naturfasern\" title=\"\" style=\"height:400px\" align=\"right\"/>\n",
    "\n",
    "- #### Studienarbeit: Evaluierung naturfaserverstärkter Kunststoffe für Einsatz in Multicopter-Propellern\n",
    "    * #### FE-Simulationen mit generischem Modell in ANSYS-CLASSIC\n",
    "    * #### Werkstoffe (insbes. FLAXPREG) prinzipiell geeignet\n",
    "    * #### Offene Themen: Lastrechnung und Übertragung auf reale Geometrien\n",
    "    * #### Workflow: Weitgehend händisch, umständlich\n",
    "- #### Interessengebiete: Optimierung und Programmierung\n",
    "- #### Idee: Entwicklung einer automatisierten Toolchain zur Auslegung in Python\n",
    "    * #### PyMAPDL: interaktives Interface zwischen Python und Ansys\n",
    "    * #### PyOpt: wissenschaftlich fundierte Optimierungs-Toolbox"
   ]
  },
  {
   "cell_type": "markdown",
   "id": "healthy-affairs",
   "metadata": {},
   "source": [
    "---"
   ]
  },
  {
   "cell_type": "markdown",
   "id": "parental-spectacular",
   "metadata": {},
   "source": [
    "## Lastrechnung\n",
    "\n",
    "<img src=\"figures/xfoil_logo.gif\" alt=\"Naturfasern\" title=\"\" style=\"height:100px\" align=\"right\"/>\n",
    "\n",
    "- ### Verwendung von XFOIL und XROTOR\n",
    "- ### Implementierung eines Python-Interface\n",
    "    * ### Im Netz nur unbrauchbare oder schlecht dokumentierte Pakete..."
   ]
  },
  {
   "cell_type": "markdown",
   "id": "settled-disclaimer",
   "metadata": {},
   "source": [
    "#### Eigenes Interface:\n",
    "\n",
    "<img src=\"figures/xsoftware.svg\" alt=\"Xsoftware\" title=\"\" align=\"right\"/>\n",
    "\n",
    "\n",
    "```python\n",
    "from util_loads import Xfoil\n",
    "\n",
    "polar_file = '_xfoil_polar.txt'\n",
    "\n",
    "# Das Inputfile wird mit einem Context-Manager generiert und automatisch abgeschickt:\n",
    "\n",
    "with Xfoil() as x:\n",
    "    x.run('aero')\n",
    "    #...\n",
    "    x.run('quit')\n",
    "    \n",
    "# Outputfiles werden mit statischen Methoden eingelesen\n",
    "\n",
    "polar = Xfoil.read_polar(polar_file)\n",
    "```"
   ]
  },
  {
   "cell_type": "markdown",
   "id": "least-italy",
   "metadata": {},
   "source": [
    "---"
   ]
  },
  {
   "cell_type": "markdown",
   "id": "realistic-cargo",
   "metadata": {},
   "source": [
    "## Lastrechnungs-Package für Propeller:\n",
    "\n",
    "<img src=\"figures/util_loads.svg\" alt=\"util_loads\" title=\"\" align=\"right\"/>\n",
    "\n",
    "- ### Basis: XFOIL und XROTOR \n",
    "- ### Verwendung beliebiger Profile und Grundrisse\n",
    "- ### Auswertung verschiedener Lastfälle und Bildung einhüllender Lastverläufe"
   ]
  },
  {
   "cell_type": "code",
   "execution_count": null,
   "id": "theoretical-summit",
   "metadata": {},
   "outputs": [],
   "source": [
    "# Local imports\n",
    "from util_loads import Propeller, Airfoil, Loadcase\n",
    "\n",
    "airfoil = Airfoil('mf3218.xfo', 500000, iter_limit=600)\n",
    "\n",
    "# Instantiate Propeller and assign geometry and airfoils\n",
    "\n",
    "propeller = Propeller(number_of_blades=2,\n",
    "                      tip_radius=0.412,\n",
    "                      hub_radius=0.04,\n",
    "                      )\n",
    "\n",
    "propeller.geometry = np.array([[0.10,0.078,0],\n",
    "                               [0.121, 0.078, 0.],\n",
    "                               [0.155, 0.100, 5.99],\n",
    "                               [0.223, 0.160, 17.97],\n",
    "                               [0.345, 0.149, 14.44],\n",
    "                               [0.417, 0.142, 12.68],\n",
    "                               [0.490, 0.135, 11.18],\n",
    "                               [0.563, 0.128, 9.94],\n",
    "                               [0.636, 0.121, 8.97],\n",
    "                               [0.709, 0.114, 8.26],\n",
    "                               [0.782, 0.107, 7.81],\n",
    "                               [0.854, 0.100, 7.63],\n",
    "                               [0.947, 0.091, 7.5],\n",
    "                               [1., 0.066, 7.5],                               \n",
    "                               ])\n",
    "\n",
    "propeller.sections = [[0.121, airfoil],\n",
    "                      [1., airfoil],]"
   ]
  },
  {
   "cell_type": "code",
   "execution_count": null,
   "id": "neither-session",
   "metadata": {},
   "outputs": [],
   "source": [
    "airfoil.set_polar(alpha_start=-7, alpha_stop=20, alpha_inc=0.25)"
   ]
  },
  {
   "cell_type": "code",
   "execution_count": null,
   "id": "proof-number",
   "metadata": {},
   "outputs": [],
   "source": [
    "# Instantiate Loadcases\n",
    "\n",
    "propeller.add_loadcase(loadcase=Loadcase(name='Max RPM', flight_speed=0.01))\n",
    "\n",
    "propeller.loadcases[0][0].set_data('rpm',4000)"
   ]
  }
 ],
 "metadata": {
  "kernelspec": {
   "display_name": "Python 3",
   "language": "python",
   "name": "python3"
  },
  "language_info": {
   "codemirror_mode": {
    "name": "ipython",
    "version": 3
   },
   "file_extension": ".py",
   "mimetype": "text/x-python",
   "name": "python",
   "nbconvert_exporter": "python",
   "pygments_lexer": "ipython3",
   "version": "3.8.5"
  }
 },
 "nbformat": 4,
 "nbformat_minor": 5
}
