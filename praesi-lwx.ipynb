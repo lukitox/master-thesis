{
 "cells": [
  {
   "cell_type": "markdown",
   "id": "indie-society",
   "metadata": {},
   "source": [
    "<img src=\"figures/lwx.png\" alt=\"Logo LWX\" title=\"\" style=\"height:100px\" align=\"right\"/>\n",
    "<img src=\"figures/logo_IFL.svg\" alt=\"Logo IFL\" title=\"\" style=\"height:100px\" align=\"left\"/>"
   ]
  },
  {
   "cell_type": "markdown",
   "id": "sharp-italian",
   "metadata": {},
   "source": [
    "## Entwicklung eines automatisierten Auslegungs- und Optimierungsprogramms für anisotrope UAV-Propeller\n",
    "\n",
    "### Lukas Hilbers, E-Mail: l.hi@posteo.de\n",
    "---"
   ]
  },
  {
   "cell_type": "markdown",
   "id": "oriented-henry",
   "metadata": {},
   "source": [
    "## Agenda\n",
    "- #### Motivation\n",
    "- #### Lastrechnungstool für UAV-Propeller\n",
    "- #### Fe-Modellierung mit PyMAPDL\n",
    "- #### Automatisierte Strukturoptimierung\n",
    "---"
   ]
  },
  {
   "cell_type": "markdown",
   "id": "german-cardiff",
   "metadata": {},
   "source": [
    "## Motivation\n",
    "<img src=\"figures/Helics_Mat_1.jpg\" alt=\"Naturfasern\" title=\"\" style=\"height:400px\" align=\"right\"/>\n",
    "\n",
    "- #### Studienarbeit: Evaluierung naturfaserverstärkter Kunststoffe für Einsatz in Multicopter-Propellern\n",
    "    * #### FE-Simulationen mit generischem Modell in ANSYS-CLASSIC\n",
    "    * #### Werkstoffe (insbes. FLAXPREG) prinzipiell geeignet\n",
    "    * #### Offene Themen: Lastrechnung und Übertragung auf reale Geometrien\n",
    "    * #### Workflow: Weitgehend händisch, umständlich\n",
    "- #### Interessengebiete: Optimierung und Programmierung\n",
    "- #### Idee: Entwicklung einer automatisierten Toolchain zur Auslegung in Python\n",
    "    * #### PyMAPDL: interaktives Interface zwischen Python und Ansys\n",
    "    * #### PyOpt: wissenschaftlich fundierte Optimierungs-Toolbox"
   ]
  },
  {
   "cell_type": "markdown",
   "id": "twenty-statement",
   "metadata": {},
   "source": [
    "---"
   ]
  },
  {
   "cell_type": "markdown",
   "id": "illegal-medicine",
   "metadata": {},
   "source": [
    "## Lastrechnung\n",
    "\n",
    "<img src=\"figures/xfoil_logo.gif\" alt=\"Naturfasern\" title=\"\" style=\"height:100px\" align=\"right\"/>\n",
    "\n",
    "- ### Verwendung von XFOIL und XROTOR\n",
    "- ### Implementierung eines Python-Interface\n",
    "    * ### Im Netz nur unbrauchbare oder schlecht dokumentierte Pakete..."
   ]
  },
  {
   "cell_type": "markdown",
   "id": "czech-henry",
   "metadata": {},
   "source": [
    "#### Eigenes Interface:\n",
    "\n",
    "<img src=\"figures/xsoftware.svg\" alt=\"Xsoftware\" title=\"\" align=\"right\"/>\n",
    "\n",
    "\n",
    "```python\n",
    "from util_loads import Xfoil\n",
    "\n",
    "polar_file = '_xfoil_polar.txt'\n",
    "\n",
    "# Das Inputfile wird mit einem Context-Manager generiert und automatisch abgeschickt:\n",
    "\n",
    "with Xfoil() as x:\n",
    "    x.run('aero')\n",
    "    #...\n",
    "    x.run('save')\n",
    "    x.run(polar_file)\n",
    "    x.run('quit')\n",
    "    \n",
    "# Outputfiles werden mit statischen Methoden eingelesen\n",
    "\n",
    "polar = Xfoil.read_polar(polar_file)\n",
    "```"
   ]
  },
  {
   "cell_type": "markdown",
   "id": "abroad-farming",
   "metadata": {},
   "source": [
    "---"
   ]
  },
  {
   "cell_type": "markdown",
   "id": "touched-terminal",
   "metadata": {},
   "source": [
    "## Lastrechnungs-Package für Propeller:\n",
    "\n",
    "<img src=\"figures/util_loads.svg\" alt=\"util_loads\" title=\"\" align=\"right\"/>\n",
    "\n",
    "- ### Basis: XFOIL und XROTOR \n",
    "- ### Verwendung beliebiger Profile und Grundrisse\n",
    "- ### Auswertung verschiedener Lastfälle und Bildung einhüllender Lastverläufe"
   ]
  },
  {
   "cell_type": "code",
   "execution_count": 1,
   "id": "injured-ending",
   "metadata": {},
   "outputs": [],
   "source": [
    "# Third-Party imports\n",
    "import numpy as np\n",
    "import pandas as pd\n",
    "import matplotlib.pyplot as plt\n",
    "%matplotlib widget\n",
    "\n",
    "# Local imports\n",
    "from util_loads import Propeller, Airfoil, Loadcase\n",
    "\n",
    "# Define Airfoil\n",
    "airfoil = Airfoil('mf3218.xfo', 500000, iter_limit=600)\n",
    "\n",
    "# Instantiate Propeller and assign geometry and airfoils\n",
    "\n",
    "propeller = Propeller(number_of_blades=2,\n",
    "                      tip_radius=0.412,\n",
    "                      hub_radius=0.04,\n",
    "                      )\n",
    "\n",
    "#                              [r/R, c/R, beta]\n",
    "propeller.geometry = np.array([[0.10,0.078,0],\n",
    "                               [0.121, 0.078, 0.],\n",
    "                               [0.155, 0.100, 5.99],\n",
    "                               [0.223, 0.160, 17.97],\n",
    "                               [0.345, 0.149, 14.44],\n",
    "                               [0.417, 0.142, 12.68],\n",
    "                               [0.490, 0.135, 11.18],\n",
    "                               [0.563, 0.128, 9.94],\n",
    "                               [0.636, 0.121, 8.97],\n",
    "                               [0.709, 0.114, 8.26],\n",
    "                               [0.782, 0.107, 7.81],\n",
    "                               [0.854, 0.100, 7.63],\n",
    "                               [0.947, 0.091, 7.5],\n",
    "                               [1., 0.066, 7.5],                               \n",
    "                               ])\n",
    "\n",
    "propeller.sections = [[0.121, airfoil],\n",
    "                      [1., airfoil],]"
   ]
  },
  {
   "cell_type": "code",
   "execution_count": 2,
   "id": "earlier-roads",
   "metadata": {},
   "outputs": [],
   "source": [
    "# Calculate polar\n",
    "airfoil.set_polar(alpha_start=-20, alpha_stop=20, alpha_inc=0.25)\n",
    "\n",
    "# Instantiate Loadcases\n",
    "propeller.add_loadcase(loadcase=Loadcase(name='Max RPM', flight_speed=0.01))\n",
    "propeller.loadcases[0][0].set_data('rpm',4000)\n",
    "\n",
    "# Calculate loads\n",
    "propeller.calc_loads()\n",
    "propeller.set_load_envelope()"
   ]
  },
  {
   "cell_type": "markdown",
   "id": "julian-boulder",
   "metadata": {},
   "source": [
    "## Profilpolaren:"
   ]
  },
  {
   "cell_type": "code",
   "execution_count": 3,
   "id": "norwegian-watts",
   "metadata": {},
   "outputs": [
    {
     "data": {
      "application/vnd.jupyter.widget-view+json": {
       "model_id": "bce2c800b3424d088dc3c6db2ec71fbf",
       "version_major": 2,
       "version_minor": 0
      },
      "text/plain": [
       "Canvas(toolbar=Toolbar(toolitems=[('Home', 'Reset original view', 'home', 'home'), ('Back', 'Back to previous …"
      ]
     },
     "metadata": {},
     "output_type": "display_data"
    },
    {
     "data": {
      "text/plain": [
       "Text(0, 0.5, 'CL / 1')"
      ]
     },
     "execution_count": 3,
     "metadata": {},
     "output_type": "execute_result"
    }
   ],
   "source": [
    "fig_polar, ax_polar = plt.subplots(1, 2, figsize=(15, 7.5))\n",
    "\n",
    "datasets = [['CL', 'black', 'dashed'],\n",
    "            ['fitted CL', 'black', 'solid'],] \n",
    "\n",
    "for dataset in datasets:\n",
    "    airfoil.polar.plot(ax=ax_polar[0],\n",
    "                       x='alpha',\n",
    "                       y=dataset[0],\n",
    "                       color=dataset[1],\n",
    "                       linestyle=dataset[2],)\n",
    "\n",
    "ax_polar[0].set_box_aspect(1)\n",
    "ax_polar[0].grid(True, which='major',linestyle='dashed')\n",
    "ax_polar[0].legend()\n",
    "ax_polar[0].set_xlim(-20,20)\n",
    "ax_polar[0].set_ylabel('CL / 1')\n",
    "\n",
    "\n",
    "airfoil.polar.plot(ax=ax_polar[1],\n",
    "                   x='CD',\n",
    "                   y='CL',\n",
    "                   color='black')\n",
    "\n",
    "ax_polar[1].set_box_aspect(1)\n",
    "ax_polar[1].grid(True, which='major',linestyle='dashed')\n",
    "ax_polar[1].legend()\n",
    "ax_polar[1].set_ylabel('CL / 1')"
   ]
  },
  {
   "cell_type": "markdown",
   "id": "biological-producer",
   "metadata": {},
   "source": [
    "## Auftriebsverteilung und Schnittmomente (1D):"
   ]
  },
  {
   "cell_type": "code",
   "execution_count": 4,
   "id": "french-amount",
   "metadata": {},
   "outputs": [
    {
     "data": {
      "application/vnd.jupyter.widget-view+json": {
       "model_id": "d251decc7ba74dc5ad0b7c6de4a84bd2",
       "version_major": 2,
       "version_minor": 0
      },
      "text/plain": [
       "Canvas(toolbar=Toolbar(toolitems=[('Home', 'Reset original view', 'home', 'home'), ('Back', 'Back to previous …"
      ]
     },
     "metadata": {},
     "output_type": "display_data"
    },
    {
     "data": {
      "text/plain": [
       "(0.0, 25.0)"
      ]
     },
     "execution_count": 4,
     "metadata": {},
     "output_type": "execute_result"
    }
   ],
   "source": [
    "propeller.loadcases[0][1]['oper']\n",
    "\n",
    "fig_oper, ax_oper = plt.subplots(1, 2, figsize=(15, 7.5))\n",
    "\n",
    "propeller.loadcases[0][1]['oper'].plot(ax=ax_oper[0],\n",
    "                                       x='r/R',\n",
    "                                       y='CL',\n",
    "                                       color='black')\n",
    "\n",
    "ax_oper[0].set_box_aspect(1)\n",
    "ax_oper[0].grid(True, which='major',linestyle='dashed')\n",
    "ax_oper[0].legend()\n",
    "ax_oper[0].set_ylabel('CL / 1')\n",
    "ax_oper[0].set_xlim(0,1)\n",
    "ax_oper[1].set_ylim(0,1.2)\n",
    "\n",
    "\n",
    "propeller.loadcases[0][1]['bend'].plot(ax=ax_oper[1],\n",
    "                                       x='r/R',\n",
    "                                       y='Mz',\n",
    "                                       color='black')\n",
    "\n",
    "ax_oper[1].set_box_aspect(1)\n",
    "ax_oper[1].grid(True, which='major',linestyle='dashed')\n",
    "ax_oper[1].legend()\n",
    "ax_oper[1].set_ylabel('$M_z\\, / \\,Nm$')\n",
    "ax_oper[1].set_xlim(0,1)\n",
    "ax_oper[1].set_ylim(0,25)"
   ]
  },
  {
   "cell_type": "code",
   "execution_count": 5,
   "id": "friendly-stream",
   "metadata": {},
   "outputs": [
    {
     "data": {
      "text/plain": [
       "{'Cl': 0.9604999999999999,\n",
       " 'Cd': 0.0092,\n",
       " 'alpha': 3.1310000000000002,\n",
       " 'Re': 326820.0,\n",
       " 'Cp_suc': -0.756365,\n",
       " 'Cp_pres': 0.34922333333333333,\n",
       " 'Cf': 0.0008466666666666667}"
      ]
     },
     "execution_count": 5,
     "metadata": {},
     "output_type": "execute_result"
    }
   ],
   "source": [
    "propeller.state(0.5,0.5)"
   ]
  },
  {
   "cell_type": "markdown",
   "id": "preceding-equivalent",
   "metadata": {},
   "source": [
    "## Flächige Druckverteilungen:"
   ]
  },
  {
   "cell_type": "code",
   "execution_count": 6,
   "id": "potential-expense",
   "metadata": {},
   "outputs": [
    {
     "name": "stderr",
     "output_type": "stream",
     "text": [
      "/home/y0065120/Dokumente/Leichtwerk/Projects/helics-opt/util_loads/airfoil.py:297: RuntimeWarning: Unconverged point: Airfoil mf3218.xfo cl 0.873. Filling with 0.\n",
      "  warnings.warn('Unconverged point: ' + str(self) + ' ' + \\\n",
      "/home/y0065120/Dokumente/Leichtwerk/Projects/helics-opt/util_loads/airfoil.py:297: RuntimeWarning: Unconverged point: Airfoil mf3218.xfo cl 0.873. Filling with 0.\n",
      "  warnings.warn('Unconverged point: ' + str(self) + ' ' + \\\n"
     ]
    }
   ],
   "source": [
    "X, Y, Cp_suc, Cp_pres = propeller.pressure_distribution('envelope')"
   ]
  },
  {
   "cell_type": "code",
   "execution_count": 7,
   "id": "related-preparation",
   "metadata": {},
   "outputs": [
    {
     "data": {
      "application/vnd.jupyter.widget-view+json": {
       "model_id": "06c76b137b8a4d70b6a2098ed883338c",
       "version_major": 2,
       "version_minor": 0
      },
      "text/plain": [
       "Canvas(toolbar=Toolbar(toolitems=[('Home', 'Reset original view', 'home', 'home'), ('Back', 'Back to previous …"
      ]
     },
     "metadata": {},
     "output_type": "display_data"
    },
    {
     "data": {
      "text/plain": [
       "Text(0.5, 0, 'Druckbeiwert -C_p / 1')"
      ]
     },
     "execution_count": 7,
     "metadata": {},
     "output_type": "execute_result"
    }
   ],
   "source": [
    "fig = plt.figure(figsize=(10, 10))\n",
    "ax = plt.axes(projection='3d')\n",
    "\n",
    "ax.plot_surface(X, Y, -Cp_suc + Cp_pres,cmap='binary', edgecolor='none')\n",
    "\n",
    "ax.set_xlabel('rel. Radius y/R / 1')\n",
    "ax.set_ylabel('rel. Profiltiefe x/C / 1')\n",
    "ax.set_zlabel('Druckbeiwert -C_p / 1')"
   ]
  },
  {
   "cell_type": "markdown",
   "id": "aquatic-representative",
   "metadata": {},
   "source": [
    "---"
   ]
  },
  {
   "cell_type": "markdown",
   "id": "thrown-recommendation",
   "metadata": {},
   "source": [
    "## FE-Modellierung mit PyMapdl"
   ]
  },
  {
   "cell_type": "markdown",
   "id": "killing-utility",
   "metadata": {},
   "source": [
    "<img src=\"docs/images/uml/femodel.svg\" alt=\"util_loads\" title=\"\" align=\"right\"/>\n",
    "\n",
    "\n",
    "- #### PyMAPDL: Interaktives Python-ANSYS-Interface\n",
    "- #### Anbindung an Lasten-Tool\n",
    "- #### Optimierung mit Python-Bibliotheken"
   ]
  },
  {
   "cell_type": "code",
   "execution_count": 8,
   "id": "israeli-restaurant",
   "metadata": {},
   "outputs": [],
   "source": [
    "# Third-Party-imports\n",
    "import pyansys\n",
    "import ipywidgets as widgets\n",
    "from ipywidgets import interactive, interact_manual, interact\n",
    "import pyvista as pv\n",
    "import itkwidgets\n",
    "\n",
    "# Local imports\n",
    "from femodel import Threepartmodel\n",
    "from util_mapdl import Material\n",
    "\n",
    "ansys_path = '/home/y0065120/Dokumente/Leichtwerk/Projects/ansys-0/'\n",
    "jobname ='job-0'\n",
    "\n",
    "mapdl = pyansys.launch_mapdl(run_location=ansys_path,\n",
    "                             nproc=2,\n",
    "                             override=True,\n",
    "                             loglevel='error',\n",
    "                             additional_switches='-smp -d X11C',\n",
    "                             jobname=jobname,\n",
    "                             allow_ignore=True,\n",
    "                             mode='console')\n",
    "\n",
    "femodel = Threepartmodel(mapdl,\n",
    "                         mesh_density_factor=1,\n",
    "                         propeller=[],\n",
    "                         n_sec=20)\n",
    "\n",
    "femodel.materials = {'flaxpreg': Material(mapdl, 'FLAXPREG-T-UD', 1),\n",
    "                     'balsa': Material(mapdl, 'balsaholz', 2)}\n",
    "\n",
    "femodel.element_data = pd.read_csv('./mf3218/element_data.csv', index_col=(0))\n",
    "\n",
    "femodel.cdread()"
   ]
  },
  {
   "cell_type": "code",
   "execution_count": 9,
   "id": "framed-butterfly",
   "metadata": {},
   "outputs": [
    {
     "data": {
      "application/vnd.jupyter.widget-view+json": {
       "model_id": "037b42ec45204b04b857792cd8e87bc1",
       "version_major": 2,
       "version_minor": 0
      },
      "text/plain": [
       "interactive(children=(IntSlider(value=162, description='Iteration Number', max=162), Output()), _dom_classes=(…"
      ]
     },
     "metadata": {},
     "output_type": "display_data"
    }
   ],
   "source": [
    "solution_data = pd.read_csv('./auswertung/solution_35-03_99-70_catia_2.csv')\n",
    "\n",
    "@interact(number=widgets.IntSlider(min=0, max=len(solution_data['F'])-1, value=len(solution_data['F'])-1, description='Iteration Number'))\n",
    "def get_iteration_dataset(number):\n",
    "    global_vars = list(solution_data.iloc[number, [109, 110]])\n",
    "    rho = list(solution_data.iloc[number, [i*2 + 111 for i in range(14)]])\n",
    "    div = list(solution_data.iloc[number, [i*2 + 112 for i in range(14)]])\n",
    "        \n",
    "    items = {}\n",
    "    items['phi0'] =widgets.FloatSlider(value=global_vars[0],min=0.,max=180., description='phi0')\n",
    "    items['phi1'] =widgets.FloatSlider(value=global_vars[1],min=0.,max=180., description='phi1')\n",
    "\n",
    "    for i in range(14):\n",
    "        items['rho' + str(i)] = widgets.FloatSlider(value=rho[i],min=0.,max=1.,step=0.01, description='rho' + str(i))\n",
    "        items['div' + str(i)] = widgets.FloatSlider(value=div[i],min=0.,max=1.,step=0.01, description='div' + str(i))\n",
    "    \n",
    "    @interact_manual(gui=widgets.Checkbox(value=False, description='Open APDL Gui', disabled=False),**items)\n",
    "    def solve_femodel(gui,**kwargs):\n",
    "            global_vars = []\n",
    "            global_vars.append(kwargs['phi0'])\n",
    "            global_vars.append(kwargs['phi1'])\n",
    "            \n",
    "            args = []\n",
    "            for i in range(14):\n",
    "                args.append((kwargs['rho' + str(i)], kwargs['div' + str(i)]))\n",
    "            for i in range(6):\n",
    "                args.append((0, 0.5))\n",
    "    \n",
    "            femodel.clear()\n",
    "            femodel.cdread()\n",
    "            femodel.change_design_variables(global_vars, *args)\n",
    "            femodel.__solve__()\n",
    "    \n",
    "            mass , i_f, i_m = femodel.post_processing()\n",
    "        \n",
    "            if gui:\n",
    "                mapdl.open_gui()\n",
    "            \n",
    "            fig3, ax3 = plt.subplots(figsize=(15, 12))\n",
    "            \n",
    "            plt.subplot(2,1,1)\n",
    "            \n",
    "            plt.plot(i_f, marker='x', label='i_f')\n",
    "            plt.plot(i_m, marker='x', label='i_m')\n",
    "            plt.xlim(0,19)\n",
    "            plt.xticks(np.linspace(0,19,20))\n",
    "            plt.ylim(0,1.2)\n",
    "            plt.grid(True, which='major', linestyle='--')\n",
    "            plt.xlabel('Section Number')\n",
    "            plt.ylabel('Versagensindex nach Puck / $1$')\n",
    "            plt.legend()\n",
    "            \n",
    "            plt.subplot(2,1,2)\n",
    "            \n",
    "            plt.plot([kwargs['rho' + str(i)] for i in range(14)], label='rho', marker='x')\n",
    "            plt.plot([kwargs['div' + str(i)] for i in range(14)], label='div', marker='x')\n",
    "            plt.xlim(0,19)\n",
    "            plt.xticks(np.linspace(0,19,20))\n",
    "            plt.ylim(0,1)\n",
    "            plt.grid(True, which='major', linestyle='--')\n",
    "            plt.ylabel('Wert der Designvariablen')\n",
    "            plt.xlabel('Section Number')\n",
    "            plt.legend()\n",
    "            \n",
    "            print('Masse: ' + str(np.round(mass*1e6,2)) + 'g')\n"
   ]
  },
  {
   "cell_type": "code",
   "execution_count": 10,
   "id": "hourly-yemen",
   "metadata": {},
   "outputs": [
    {
     "data": {
      "application/vnd.jupyter.widget-view+json": {
       "model_id": "751160f54c5142c38f7902ef6f7f695a",
       "version_major": 2,
       "version_minor": 0
      },
      "text/plain": [
       "interactive(children=(IntSlider(value=1, description='Layer:', max=5, min=1), Checkbox(value=True, description…"
      ]
     },
     "metadata": {},
     "output_type": "display_data"
    }
   ],
   "source": [
    "@interact_manual(switch=widgets.Checkbox(value=True, description='True = Fib', disabled=False),\n",
    "                 layer=widgets.IntSlider(min=1, max=5, value=1, description='Layer:'))\n",
    "def plot_puck(layer, switch):\n",
    "    mapdl.post1()\n",
    "    mapdl.layer(layer)\n",
    "    \n",
    "    if switch:\n",
    "        mapdl.etable('fib','fail','pfib')\n",
    "    else:\n",
    "        mapdl.etable('fib','fail','pmat')\n",
    "\n",
    "    with open('pretab.txt', 'w') as f:\n",
    "        f.write(mapdl.pretab('fib'))\n",
    "\n",
    "    etable = []\n",
    "    with open('pretab.txt', 'r') as f:\n",
    "        for line_number, line in enumerate(f):\n",
    "            split_line = line.split()\n",
    "            try:\n",
    "                etable.append([int(split_line[0]), float(split_line[1])])\n",
    "            except:\n",
    "                pass\n",
    "    etable=np.array(etable)          \n",
    "\n",
    "    etb_scalar = []\n",
    "    for elem in mapdl.result.grid['ansys_elem_num']:\n",
    "        etb_scalar.append(etable[elem-1,1])\n",
    "    etb_scalar = np.array(etb_scalar)\n",
    "\n",
    "    #plotter = pv.Plotter(notebook=True)\n",
    "    #plotter = pv.Plotter()\n",
    "    plotter = pv.PlotterITK()\n",
    "    plotter.add_mesh(mapdl.result.grid,\n",
    "                     scalars=etb_scalar, #etable[:,1],\n",
    "                     #cmap='plasma',\n",
    "                     #clim=[0,1],\n",
    "                     )\n",
    "    #plotter.show_axes()\n",
    "    #plotter.set_background(color='w')\n",
    "    #plotter.add_scalar_bar(position_x=0.2)\n",
    "    cpos = plotter.show(cpos=[0, 0, 1],\n",
    "                        cmap='coolwarm'\n",
    "                       # use_ipyvtk=True,\n",
    "                       ) "
   ]
  },
  {
   "cell_type": "markdown",
   "id": "victorian-firewall",
   "metadata": {},
   "source": [
    "## Lastaufprägung:"
   ]
  },
  {
   "cell_type": "code",
   "execution_count": 11,
   "id": "greater-alliance",
   "metadata": {},
   "outputs": [
    {
     "data": {
      "application/vnd.jupyter.widget-view+json": {
       "model_id": "bfa1bd23fd9f4e619c46f685dbc47c0e",
       "version_major": 2,
       "version_minor": 0
      },
      "text/plain": [
       "interactive(children=(Text(value='Pressure by Lift', description='column'), Button(description='Run Interact',…"
      ]
     },
     "metadata": {},
     "output_type": "display_data"
    }
   ],
   "source": [
    "@interact_manual(column='Pressure by Lift')\n",
    "def plot_column(column):\n",
    "\n",
    "    etable=np.array(femodel.element_data[column])          \n",
    "\n",
    "    etb_scalar = []\n",
    "    for elem in mapdl.result.grid['ansys_elem_num']:\n",
    "        etb_scalar.append(etable[elem-1])\n",
    "    etb_scalar = np.array(etb_scalar)\n",
    "\n",
    "    #plotter = pv.Plotter(notebook=True)\n",
    "    #plotter = pv.Plotter()\n",
    "    plotter = pv.PlotterITK()\n",
    "    plotter.add_mesh(mapdl.result.grid,\n",
    "                     scalars=etb_scalar, #etable[:,1],\n",
    "                     #cmap='plasma',\n",
    "                     #clim=[0,1],\n",
    "                     )\n",
    "    #plotter.show_axes()\n",
    "    #plotter.set_background(color='w')\n",
    "    #plotter.add_scalar_bar(position_x=0.2)\n",
    "    cpos = plotter.show(cpos=[0, 0, 1],\n",
    "                        #cmap='coolwarm'\n",
    "                        use_ipyvtk=True,\n",
    "                       ) "
   ]
  },
  {
   "cell_type": "markdown",
   "id": "regional-uncle",
   "metadata": {},
   "source": [
    "***\n",
    "## Optimierung mit PyOpt:\n",
    "<img src=\"https://upload.wikimedia.org/wikipedia/commons/e/ec/ParticleSwarmArrowsAnimation.gif\" alt=\"util_loads\" title=\"\" align=\"right\"/>\n",
    "\n",
    "- #### Modulare Optimierungstoolbox, verschiedene Optimierer verfügbar:\n",
    "    * #### Teilchenschwärme: ALPSO\n",
    "    * #### Evolutionsstrategien: NSGA2\n",
    "    * #### Gradientenbasierte Verfahren: SLSQP\n",
    "- #### Auswahl: ALSPO\n",
    "    * #### Globale Suchmethode, keine Gradienten\n",
    "    * #### Restriktionen und diskrete Variablen unterstützt\n",
    "    * #### Parallelisierung möglich\n",
    "- #### Idee Partikelschwarmverfahren:\n",
    "    * #### Nachbildung des Verhaltens von Schwärmen im Tierreich\n",
    "    * #### Beispiel: Vögelschwärme auf Suche nach Futterplätzen\n",
    "    * #### Vorteil durch geteiltes Wissen überwiegt Wettbewerb"
   ]
  },
  {
   "cell_type": "markdown",
   "id": "macro-custom",
   "metadata": {},
   "source": [
    "<img src=\"figures/pso.png\" alt=\"util_loads\" title=\"\" align=\"right\" width=\"800px\"/>"
   ]
  },
  {
   "cell_type": "markdown",
   "id": "greek-archive",
   "metadata": {},
   "source": [
    "***\n",
    "<img src=\"docs/images/uml/optimization_loop.svg\" alt=\"util_loads\" title=\"\" align=\"right\"/>\n",
    "\n",
    "## Optimierungsproblem:\n",
    "\n",
    "Designvariablen:\n",
    "- Faserorientierungen\n",
    "- Anteil Faser/Sandwich: 0..1\n",
    "- Assymetrie 0.3 .. 0.7\n",
    "\n",
    "Zielfunktion:\n",
    "\n",
    "$\\text{min}\\,f(\\vec{x}) = \\sum_{j=1}^{m} |I_{fib, puck} - 1|; \\qquad j =1,\\,\\dots,\\,m$\n",
    "\n",
    "Restriktionen:\n",
    "\n",
    "$g_j(\\vec{x}) = I_{fib, puck} - 1 \\le 0; \\qquad j  =1,\\,\\dots,\\,m$\n",
    "\n",
    "$g_j(\\vec{x}) = I_{mat, puck} - 1 \\le 0; \\qquad j  =m+1,\\,\\dots,\\,2m$"
   ]
  },
  {
   "cell_type": "code",
   "execution_count": 12,
   "id": "turkish-depth",
   "metadata": {},
   "outputs": [
    {
     "data": {
      "application/vnd.jupyter.widget-view+json": {
       "model_id": "f1f3cc6f084f48f780c0cf1459b2cbe8",
       "version_major": 2,
       "version_minor": 0
      },
      "text/plain": [
       "interactive(children=(IntSlider(value=162, description='eval', max=162, min=-1), Output()), _dom_classes=('wid…"
      ]
     },
     "metadata": {},
     "output_type": "display_data"
    }
   ],
   "source": [
    "solution = pd.read_csv('./auswertung/solution_35-03_99-70_catia_2.csv', index_col=0)\n",
    "\n",
    "@interact(eval=widgets.IntSlider(min=-1, max=len(solution['F'])-1, step=1, value=len(solution['F'])-1))\n",
    "def plot_eval(eval):\n",
    "    i_f = solution.iloc[eval, [i+1 for i in range(20)]]\n",
    "    i_m = solution.iloc[eval, [i+21 for i in range(20)]]\n",
    "    rho = solution.iloc[eval, [i*2+110 for i in range(14)]]\n",
    "    div = solution.iloc[eval, [i*2+111 for i in range(14)]]\n",
    "    \n",
    "    fig, ax = plt.subplots(figsize=(15,15))\n",
    "\n",
    "    plt.subplot(4, 1, 1)\n",
    "    \n",
    "    plt.plot(list(i_f), marker='x')\n",
    "    plt.grid(True,which= 'major',linestyle= '--')\n",
    "    plt.xlim(0,19)\n",
    "    plt.ylim(-0.6,0.3)\n",
    "    plt.xlabel('Section')\n",
    "    plt.ylabel('I_f')\n",
    "    plt.xticks(np.linspace(0,19,20))\n",
    "    plt.plot([[-1+solution['P(0)'][eval]] for i in range(14)],linestyle= '--',color='black',linewidth=1)\n",
    "    plt.plot([[1-solution['P(0)'][eval]] for i in range(14)],linestyle= '--',color='black',linewidth=1)\n",
    "\n",
    "    \n",
    "    plt.subplot(4, 1, 2)\n",
    "    \n",
    "    plt.plot(list(i_m), marker='x')\n",
    "    plt.grid(True,which= 'major',linestyle= '--')\n",
    "    plt.xlim(0,19)\n",
    "    plt.ylim(-1,0.3)\n",
    "    plt.xlabel('Section')\n",
    "    plt.ylabel('I_m')\n",
    "    plt.xticks(np.linspace(0,19,20))\n",
    "    \n",
    "    plt.subplot(4,1,3)\n",
    "    \n",
    "    plt.plot(list(rho), marker='x')\n",
    "    plt.grid(True,which= 'major',linestyle= '--')\n",
    "    plt.xlim(0,19)\n",
    "    plt.ylim(0,1)\n",
    "    plt.xlabel('Section')\n",
    "    plt.ylabel('rho')\n",
    "    plt.xticks(np.linspace(0,19,20))\n",
    "    \n",
    "    plt.subplot(4,1,4)\n",
    "    \n",
    "    plt.plot(list(div), marker='x')\n",
    "    plt.grid(True,which= 'major',linestyle= '--')\n",
    "    plt.xlim(0,19)\n",
    "    plt.ylim(0.3,0.7)\n",
    "    plt.xlabel('Section')\n",
    "    plt.ylabel('div')\n",
    "    plt.xticks(np.linspace(0,19,20))"
   ]
  },
  {
   "cell_type": "markdown",
   "id": "widespread-remainder",
   "metadata": {},
   "source": [
    "Parallelisierung, Partikel..."
   ]
  }
 ],
 "metadata": {
  "kernelspec": {
   "display_name": "Python 3",
   "language": "python",
   "name": "python3"
  },
  "language_info": {
   "codemirror_mode": {
    "name": "ipython",
    "version": 3
   },
   "file_extension": ".py",
   "mimetype": "text/x-python",
   "name": "python",
   "nbconvert_exporter": "python",
   "pygments_lexer": "ipython3",
   "version": "3.8.5"
  }
 },
 "nbformat": 4,
 "nbformat_minor": 5
}
