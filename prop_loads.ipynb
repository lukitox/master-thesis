{
 "cells": [
  {
   "cell_type": "code",
   "execution_count": 1,
   "id": "cooperative-sensitivity",
   "metadata": {},
   "outputs": [],
   "source": [
    "# %% Import Libraries and Data\n",
    "\n",
    "# Third-party imports\n",
    "import numpy as np\n",
    "import pyansys\n",
    "\n",
    "# Local imports\n",
    "from util_loads import Propeller, Airfoil, Loadcase\n",
    "from util_mapdl import Material\n",
    "from femodel import Threepartmodel\n",
    "\n",
    "# %% Instantiate Airfoils and assign radial sections\n",
    "\n",
    "airfoil = Airfoil('mf3218.xfo', 500000, iter_limit=600)\n",
    "airfoildick = Airfoil('mf3218-dick.xfo', 500000, iter_limit=600)\n",
    "rectangle = Airfoil('rectangle2.txt',500000)\n",
    "\n",
    "# %% Instantiate Propeller and assign geometry and airfoils\n",
    "\n",
    "propeller = Propeller(number_of_blades=2,\n",
    "                      tip_radius=0.412,\n",
    "                      hub_radius=0.04,\n",
    "                      )\n",
    "\n",
    "propeller.geometry = np.array([[0.10,0.078,0],\n",
    "                               [0.121, 0.078, 0.],\n",
    "                               [0.155, 0.100, 5.99],\n",
    "                               [0.223, 0.160, 17.97],\n",
    "                               [0.345, 0.149, 14.44],\n",
    "                               [0.417, 0.142, 12.68],\n",
    "                               [0.490, 0.135, 11.18],\n",
    "                               [0.563, 0.128, 9.94],\n",
    "                               [0.636, 0.121, 8.97],\n",
    "                               [0.709, 0.114, 8.26],\n",
    "                               [0.782, 0.107, 7.81],\n",
    "                               [0.854, 0.100, 7.63],\n",
    "                               [0.947, 0.091, 7.5],\n",
    "                               [1., 0.066, 7.5],                               \n",
    "                               ])\n",
    "\n",
    "propeller.sections = [[0.121, airfoil],\n",
    "                      [0.223, airfoil],\n",
    "                      [1., airfoil]]\n",
    "\n",
    "propeller.geometric_sections = [[0.121, rectangle],\n",
    "                                [0.223, airfoildick],\n",
    "                                [1., airfoildick]]\n",
    "\n",
    "for x in propeller.sections:\n",
    "    x[1].set_polar(alpha_start=-7, alpha_stop=20, alpha_inc=0.25) \n",
    "    \n",
    "airfoil.xrotor_characteristics['Cm'] = -0.14\n",
    "airfoil.xrotor_characteristics['d(Cl)/d(alpha)'] = 6.28\n",
    "airfoil.xrotor_characteristics['Minimum Cl'] = 0.\n",
    "\n",
    "# %% Instantiate Loadcases\n",
    "\n",
    "propeller.add_loadcase(loadcase=Loadcase(name='Max RPM', flight_speed=0.01))\n",
    "\n",
    "propeller.loadcases[0][0].set_data('rpm',4000)\n",
    "\n",
    "# %% Calculate loads\n",
    "\n",
    "propeller.calc_loads()\n",
    "propeller.set_load_envelope()"
   ]
  },
  {
   "cell_type": "code",
   "execution_count": 3,
   "id": "coated-repository",
   "metadata": {},
   "outputs": [
    {
     "name": "stderr",
     "output_type": "stream",
     "text": [
      "Unconverged point: Airfoil mf3218.xfo cl 0.872. Filling with 0.\n",
      "Unconverged point: Airfoil mf3218.xfo cl 0.84. Filling with 0.\n",
      "Unconverged point: Airfoil mf3218.xfo cl 0.84. Filling with 0.\n",
      "Unconverged point: Airfoil mf3218.xfo cl 0.795. Filling with 0.\n",
      "Unconverged point: Airfoil mf3218.xfo cl 0.795. Filling with 0.\n",
      "Unconverged point: Airfoil mf3218.xfo cl 0.795. Filling with 0.\n",
      "Unconverged point: Airfoil mf3218.xfo cl 0.795. Filling with 0.\n",
      "Unconverged point: Airfoil mf3218.xfo cl 0.795. Filling with 0.\n",
      "Unconverged point: Airfoil mf3218.xfo cl 0.795. Filling with 0.\n"
     ]
    }
   ],
   "source": [
    "X, Y, Cp_suc, Cp_pres = propeller.pressure_distribution('envelope')"
   ]
  },
  {
   "cell_type": "code",
   "execution_count": 17,
   "id": "opposed-white",
   "metadata": {},
   "outputs": [],
   "source": [
    "import matplotlib.pyplot as plt\n",
    "%matplotlib widget"
   ]
  },
  {
   "cell_type": "code",
   "execution_count": 41,
   "id": "informative-invalid",
   "metadata": {},
   "outputs": [
    {
     "data": {
      "application/vnd.jupyter.widget-view+json": {
       "model_id": "e13efb1ab8064420b42231e35b9c0eb7",
       "version_major": 2,
       "version_minor": 0
      },
      "text/plain": [
       "Canvas(toolbar=Toolbar(toolitems=[('Home', 'Reset original view', 'home', 'home'), ('Back', 'Back to previous …"
      ]
     },
     "metadata": {},
     "output_type": "display_data"
    },
    {
     "data": {
      "text/plain": [
       "<mpl_toolkits.mplot3d.art3d.Poly3DCollection at 0x7fe47f02d310>"
      ]
     },
     "execution_count": 41,
     "metadata": {},
     "output_type": "execute_result"
    }
   ],
   "source": [
    "fig = plt.figure(figsize=(15,15))\n",
    "ax = plt.axes(projection=\"3d\")\n",
    "\n",
    "ax.plot_surface(Y, X, -Cp_suc,cmap='plasma')\n",
    "ax.plot_surface(Y, X, -Cp_pres,cmap='plasma')\n"
   ]
  },
  {
   "cell_type": "code",
   "execution_count": 38,
   "id": "contrary-storage",
   "metadata": {},
   "outputs": [],
   "source": [
    "with open('pdist.txt', 'w') as f:\n",
    "    for idline, line in enumerate(X):\n",
    "        for idrow, row in enumerate(line):\n",
    "            f.write('(%s, %s, %s)\\n' % (Y[idline, idrow], X[idline, idrow], -Cp_suc[idline, idrow]))\n",
    "            if idrow == 29:\n",
    "                f.write('\\n')"
   ]
  },
  {
   "cell_type": "code",
   "execution_count": 43,
   "id": "supported-parliament",
   "metadata": {},
   "outputs": [
    {
     "data": {
      "application/vnd.jupyter.widget-view+json": {
       "model_id": "8a8f66a4a977496ea3cbaf06dfd45056",
       "version_major": 2,
       "version_minor": 0
      },
      "text/plain": [
       "Canvas(toolbar=Toolbar(toolitems=[('Home', 'Reset original view', 'home', 'home'), ('Back', 'Back to previous …"
      ]
     },
     "metadata": {},
     "output_type": "display_data"
    },
    {
     "data": {
      "text/plain": [
       "<AxesSubplot:xlabel='r/R'>"
      ]
     },
     "execution_count": 43,
     "metadata": {},
     "output_type": "execute_result"
    }
   ],
   "source": [
    "propeller.loadcases[0][1]['oper'].plot(x='r/R', y='CL')"
   ]
  },
  {
   "cell_type": "code",
   "execution_count": null,
   "id": "wrapped-digest",
   "metadata": {},
   "outputs": [],
   "source": []
  }
 ],
 "metadata": {
  "kernelspec": {
   "display_name": "Python 3",
   "language": "python",
   "name": "python3"
  },
  "language_info": {
   "codemirror_mode": {
    "name": "ipython",
    "version": 3
   },
   "file_extension": ".py",
   "mimetype": "text/x-python",
   "name": "python",
   "nbconvert_exporter": "python",
   "pygments_lexer": "ipython3",
   "version": "3.8.5"
  }
 },
 "nbformat": 4,
 "nbformat_minor": 5
}
